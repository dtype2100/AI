{
 "cells": [
  {
   "cell_type": "code",
   "execution_count": 2,
   "id": "82d098ca",
   "metadata": {},
   "outputs": [
    {
     "name": "stdout",
     "output_type": "stream",
     "text": [
      "조회 기간: 2023-01-01 ~ 2023-12-31\n",
      "\n",
      "=== 코스닥 신규 상장 기업 조회 ===\n",
      "신규 상장 조회 중 오류: could not find \"20230101\"\n",
      "\n",
      "=== 코스닥 상장폐지 기업 조회 ===\n",
      "상장폐지 조회 중 오류: could not find \"20230101\"\n",
      "\n",
      "=== 통합 분석 ===\n",
      "조회 기간 내 코스닥 상장 변동이 없습니다.\n",
      "\n",
      "=== 분석 완료 ===\n"
     ]
    }
   ],
   "source": [
    "exec(open('kosdaq_quick_fix_utf8.py', encoding='utf-8').read())"
   ]
  },
  {
   "cell_type": "code",
   "execution_count": 3,
   "id": "394d38dc",
   "metadata": {},
   "outputs": [
    {
     "name": "stdout",
     "output_type": "stream",
     "text": [
      "조회 기간: 2023-01-01 ~ 2023-12-31\n",
      "신규 상장 조회 중 오류: could not find \"20230101\"\n",
      "코스닥 신규 상장 기업 수: 0\n",
      "상장폐지 조회 중 오류: could not find \"20230101\"\n",
      "코스닥 상장폐지 기업 수: 0\n",
      "\n",
      "==================================================\n",
      "코스닥 상장 변동 분석 결과\n",
      "==================================================\n",
      "총 변동 건수: 0\n",
      "신규상장: 0건\n",
      "상장폐지: 0건\n"
     ]
    }
   ],
   "source": [
    "from kosdaq_listing_analysis import KosdaqListingAnalyzer\n",
    "\n",
    "analyzer = KosdaqListingAnalyzer()\n",
    "results = analyzer.analyze_listing_changes('20230101', '20231231')\n",
    "analyzer.print_analysis_results(results)"
   ]
  },
  {
   "cell_type": "code",
   "execution_count": 2,
   "id": "60905ec6",
   "metadata": {},
   "outputs": [
    {
     "name": "stdout",
     "output_type": "stream",
     "text": [
      "조회 기간: 2023-01-01 ~ 2023-12-31\n",
      "\n",
      "=== 코스닥 신규 상장 기업 조회 ===\n",
      "신규 상장 조회 중 오류: could not find \"20230101\"\n",
      "\n",
      "=== 코스닥 상장폐지 기업 조회 ===\n",
      "상장폐지 조회 중 오류: could not find \"20230101\"\n",
      "\n",
      "=== 통합 분석 ===\n",
      "조회 기간 내 코스닥 상장 변동이 없습니다.\n",
      "\n",
      "============================================================\n",
      "코스닥 상장 변동 분석 결과\n",
      "============================================================\n",
      "총 변동 건수: 0\n",
      "신규상장: 0건\n",
      "상장폐지: 0건\n"
     ]
    },
    {
     "ename": "FileNotFoundError",
     "evalue": "[Errno 2] No such file or directory: 'kosdaq_quick_fix_utf8.py'",
     "output_type": "error",
     "traceback": [
      "\u001b[31m---------------------------------------------------------------------------\u001b[39m",
      "\u001b[31mFileNotFoundError\u001b[39m                         Traceback (most recent call last)",
      "\u001b[36mCell\u001b[39m\u001b[36m \u001b[39m\u001b[32mIn[2]\u001b[39m\u001b[32m, line 7\u001b[39m\n\u001b[32m      4\u001b[39m print_results(results)\n\u001b[32m      6\u001b[39m \u001b[38;5;66;03m# 또는 UTF-8 인코딩으로 파일 실행\u001b[39;00m\n\u001b[32m----> \u001b[39m\u001b[32m7\u001b[39m exec(\u001b[38;5;28;43mopen\u001b[39;49m\u001b[43m(\u001b[49m\u001b[33;43m'\u001b[39;49m\u001b[33;43mkosdaq_quick_fix_utf8.py\u001b[39;49m\u001b[33;43m'\u001b[39;49m\u001b[43m,\u001b[49m\u001b[43m \u001b[49m\u001b[43mencoding\u001b[49m\u001b[43m=\u001b[49m\u001b[33;43m'\u001b[39;49m\u001b[33;43mutf-8\u001b[39;49m\u001b[33;43m'\u001b[39;49m\u001b[43m)\u001b[49m.read())\n",
      "\u001b[36mFile \u001b[39m\u001b[32mc:\\Users\\jw160\\project\\chat_project\\.venv\\Lib\\site-packages\\IPython\\core\\interactiveshell.py:343\u001b[39m, in \u001b[36m_modified_open\u001b[39m\u001b[34m(file, *args, **kwargs)\u001b[39m\n\u001b[32m    336\u001b[39m \u001b[38;5;28;01mif\u001b[39;00m file \u001b[38;5;129;01min\u001b[39;00m {\u001b[32m0\u001b[39m, \u001b[32m1\u001b[39m, \u001b[32m2\u001b[39m}:\n\u001b[32m    337\u001b[39m     \u001b[38;5;28;01mraise\u001b[39;00m \u001b[38;5;167;01mValueError\u001b[39;00m(\n\u001b[32m    338\u001b[39m         \u001b[33mf\u001b[39m\u001b[33m\"\u001b[39m\u001b[33mIPython won\u001b[39m\u001b[33m'\u001b[39m\u001b[33mt let you open fd=\u001b[39m\u001b[38;5;132;01m{\u001b[39;00mfile\u001b[38;5;132;01m}\u001b[39;00m\u001b[33m by default \u001b[39m\u001b[33m\"\u001b[39m\n\u001b[32m    339\u001b[39m         \u001b[33m\"\u001b[39m\u001b[33mas it is likely to crash IPython. If you know what you are doing, \u001b[39m\u001b[33m\"\u001b[39m\n\u001b[32m    340\u001b[39m         \u001b[33m\"\u001b[39m\u001b[33myou can use builtins\u001b[39m\u001b[33m'\u001b[39m\u001b[33m open.\u001b[39m\u001b[33m\"\u001b[39m\n\u001b[32m    341\u001b[39m     )\n\u001b[32m--> \u001b[39m\u001b[32m343\u001b[39m \u001b[38;5;28;01mreturn\u001b[39;00m \u001b[43mio_open\u001b[49m\u001b[43m(\u001b[49m\u001b[43mfile\u001b[49m\u001b[43m,\u001b[49m\u001b[43m \u001b[49m\u001b[43m*\u001b[49m\u001b[43margs\u001b[49m\u001b[43m,\u001b[49m\u001b[43m \u001b[49m\u001b[43m*\u001b[49m\u001b[43m*\u001b[49m\u001b[43mkwargs\u001b[49m\u001b[43m)\u001b[49m\n",
      "\u001b[31mFileNotFoundError\u001b[39m: [Errno 2] No such file or directory: 'kosdaq_quick_fix_utf8.py'"
     ]
    }
   ],
   "source": [
    "# 간단한 통합 분석\n",
    "from kosdaq_analysis.kosdaq_quick_analysis import analyze_kosdaq_changes, print_results\n",
    "results = analyze_kosdaq_changes('20230101', '20231231')\n",
    "print_results(results)\n",
    "\n",
    "# 또는 UTF-8 인코딩으로 파일 실행\n",
    "exec(open('kosdaq_quick_fix_utf8.py', encoding='utf-8').read())"
   ]
  },
  {
   "cell_type": "code",
   "execution_count": null,
   "id": "32bb13db",
   "metadata": {},
   "outputs": [],
   "source": []
  }
 ],
 "metadata": {
  "kernelspec": {
   "display_name": ".venv",
   "language": "python",
   "name": "python3"
  },
  "language_info": {
   "codemirror_mode": {
    "name": "ipython",
    "version": 3
   },
   "file_extension": ".py",
   "mimetype": "text/x-python",
   "name": "python",
   "nbconvert_exporter": "python",
   "pygments_lexer": "ipython3",
   "version": "3.13.5"
  }
 },
 "nbformat": 4,
 "nbformat_minor": 5
}
