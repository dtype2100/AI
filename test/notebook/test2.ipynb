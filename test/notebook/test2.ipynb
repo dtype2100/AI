{
 "cells": [
  {
   "cell_type": "code",
   "execution_count": 25,
   "id": "5fac6b54",
   "metadata": {},
   "outputs": [],
   "source": [
    "import requests\n",
    "import os\n",
    "import pandas as pd\n",
    "import yfinance as yf\n"
   ]
  },
  {
   "cell_type": "code",
   "execution_count": 18,
   "id": "2be01590",
   "metadata": {},
   "outputs": [],
   "source": [
    "df = pd.read_csv(\"nasdaq_screener_1753966376192.csv\")"
   ]
  },
  {
   "cell_type": "code",
   "execution_count": 21,
   "id": "8b9b8c6d",
   "metadata": {},
   "outputs": [
    {
     "data": {
      "text/plain": [
       "6926"
      ]
     },
     "execution_count": 21,
     "metadata": {},
     "output_type": "execute_result"
    }
   ],
   "source": [
    "len(df['Symbol'])"
   ]
  },
  {
   "cell_type": "code",
   "execution_count": 38,
   "id": "96d2524f",
   "metadata": {},
   "outputs": [],
   "source": [
    "from edgar import set_identity\n",
    "\n",
    "# Use your name and email (required by SEC)\n",
    "set_identity(\"jwlee rgm418@gmail.com\")"
   ]
  },
  {
   "cell_type": "code",
   "execution_count": 39,
   "id": "10828edd",
   "metadata": {},
   "outputs": [
    {
     "ename": "AttributeError",
     "evalue": "type object 'Filings' has no attribute 'search'",
     "output_type": "error",
     "traceback": [
      "\u001b[31m---------------------------------------------------------------------------\u001b[39m",
      "\u001b[31mAttributeError\u001b[39m                            Traceback (most recent call last)",
      "\u001b[36mCell\u001b[39m\u001b[36m \u001b[39m\u001b[32mIn[39]\u001b[39m\u001b[32m, line 16\u001b[39m\n\u001b[32m     13\u001b[39m latest_10k = annual_reports.latest()\n\u001b[32m     15\u001b[39m \u001b[38;5;66;03m# Search across multiple companies\u001b[39;00m\n\u001b[32m---> \u001b[39m\u001b[32m16\u001b[39m tech_filings = \u001b[43mFilings\u001b[49m\u001b[43m.\u001b[49m\u001b[43msearch\u001b[49m(\n\u001b[32m     17\u001b[39m     companies=[\u001b[33m\"\u001b[39m\u001b[33mAAPL\u001b[39m\u001b[33m\"\u001b[39m, \u001b[33m\"\u001b[39m\u001b[33mMSFT\u001b[39m\u001b[33m\"\u001b[39m, \u001b[33m\"\u001b[39m\u001b[33mGOOGL\u001b[39m\u001b[33m\"\u001b[39m],\n\u001b[32m     18\u001b[39m     form=\u001b[33m\"\u001b[39m\u001b[33m8-K\u001b[39m\u001b[33m\"\u001b[39m,\n\u001b[32m     19\u001b[39m     start_date=\u001b[33m\"\u001b[39m\u001b[33m2023-01-01\u001b[39m\u001b[33m\"\u001b[39m,\n\u001b[32m     20\u001b[39m     end_date=\u001b[33m\"\u001b[39m\u001b[33m2023-12-31\u001b[39m\u001b[33m\"\u001b[39m\n\u001b[32m     21\u001b[39m )\n",
      "\u001b[31mAttributeError\u001b[39m: type object 'Filings' has no attribute 'search'"
     ]
    }
   ],
   "source": [
    "from edgar import Company, Filings\n",
    "\n",
    "# Get all filings for a specific company\n",
    "apple = Company(\"AAPL\")\n",
    "filings = apple.get_filings()\n",
    "\n",
    "# Filter by form type\n",
    "annual_reports = filings.filter(form=\"10-K\")\n",
    "quarterly_reports = filings.filter(form=\"10-Q\")\n",
    "current_reports = filings.filter(form=\"8-K\")\n",
    "\n",
    "# Get the most recent annual report\n",
    "latest_10k = annual_reports.latest()\n",
    "\n",
    "# Search across multiple companies\n",
    "tech_filings = Filings.search(\n",
    "    companies=[\"AAPL\", \"MSFT\", \"GOOGL\"],\n",
    "    form=\"8-K\",\n",
    "    start_date=\"2023-01-01\",\n",
    "    end_date=\"2023-12-31\"\n",
    ")"
   ]
  },
  {
   "cell_type": "code",
   "execution_count": 34,
   "id": "a1098556",
   "metadata": {},
   "outputs": [],
   "source": [
    "from edgar import *\n",
    "\n",
    "filings = get_filings()"
   ]
  },
  {
   "cell_type": "code",
   "execution_count": 35,
   "id": "c3386b65",
   "metadata": {},
   "outputs": [
    {
     "data": {
      "text/html": [
       "<pre style=\"white-space:pre;overflow-x:auto;line-height:normal;font-family:Menlo,'DejaVu Sans Mono',consolas,'Courier New',monospace\"></pre>\n"
      ],
      "text/plain": []
     },
     "metadata": {},
     "output_type": "display_data"
    },
    {
     "data": {
      "text/plain": [
       "\u001b[1;38;5;245m╭─\u001b[0m\u001b[1;38;5;245m─────────────────────────────────────────────────\u001b[0m\u001b[1;38;5;245m SEC Filings \u001b[0m\u001b[1;38;5;245m─────────────────────────────────────────────────\u001b[0m\u001b[1;38;5;245m─╮\u001b[0m\n",
       "\u001b[1;38;5;245m│\u001b[0m                                                                                                                 \u001b[1;38;5;245m│\u001b[0m\n",
       "\u001b[1;38;5;245m│\u001b[0m   \u001b[1m \u001b[0m\u001b[1mForm     \u001b[0m\u001b[1m \u001b[0m \u001b[1m \u001b[0m\u001b[1m      CIK\u001b[0m\u001b[1m \u001b[0m \u001b[1m \u001b[0m\u001b[1mTicker\u001b[0m\u001b[1m \u001b[0m \u001b[1m \u001b[0m\u001b[1mCompany                              \u001b[0m\u001b[1m \u001b[0m \u001b[1m \u001b[0m\u001b[1mFiling Date\u001b[0m\u001b[1m \u001b[0m \u001b[1m \u001b[0m\u001b[1mAccession Number   \u001b[0m\u001b[1m \u001b[0m  \u001b[1;38;5;245m│\u001b[0m\n",
       "\u001b[1;38;5;245m│\u001b[0m  ─────────────────────────────────────────────────────────────────────────────────────────────────────────────  \u001b[1;38;5;245m│\u001b[0m\n",
       "\u001b[1;38;5;245m│\u001b[0m    10-Q       \u001b[2m \u001b[0m\u001b[2m     1800\u001b[0m\u001b[2m \u001b[0m \u001b[33m \u001b[0m\u001b[33mABT   \u001b[0m\u001b[33m \u001b[0m \u001b[1;32m \u001b[0m\u001b[1;32mABBOTT LABORATORIES                  \u001b[0m\u001b[1;32m \u001b[0m  2025-07-30    \u001b[2m000\u001b[0m\u001b[1;37m1628280\u001b[0m-\u001b[94m25\u001b[0m-\u001b[2m0\u001b[0m\u001b[1;37m367…\u001b[0m   \u001b[1;38;5;245m│\u001b[0m\n",
       "\u001b[1;38;5;245m│\u001b[0m   \u001b[1m \u001b[0m\u001b[1m10-Q     \u001b[0m\u001b[1m \u001b[0m \u001b[1;2m \u001b[0m\u001b[1;2m   899629\u001b[0m\u001b[1;2m \u001b[0m \u001b[1;33m \u001b[0m\u001b[1;33mAKR   \u001b[0m\u001b[1;33m \u001b[0m \u001b[1;32m \u001b[0m\u001b[1;32mACADIA REALTY TRUST                  \u001b[0m\u001b[1;32m \u001b[0m \u001b[1m \u001b[0m\u001b[1m2025-07-30 \u001b[0m\u001b[1m \u001b[0m \u001b[1m \u001b[0m\u001b[1;2m0000\u001b[0m\u001b[1;37m950170\u001b[0m\u001b[1m-\u001b[0m\u001b[1;94m25\u001b[0m\u001b[1m-\u001b[0m\u001b[1;37m1002…\u001b[0m\u001b[1m \u001b[0m  \u001b[1;38;5;245m│\u001b[0m\n",
       "\u001b[1;38;5;245m│\u001b[0m    10-Q       \u001b[2m \u001b[0m\u001b[2m  1721781\u001b[0m\u001b[2m \u001b[0m \u001b[33m \u001b[0m\u001b[33m      \u001b[0m\u001b[33m \u001b[0m \u001b[1;32m \u001b[0m\u001b[1;32mAEP Texas Inc.                       \u001b[0m\u001b[1;32m \u001b[0m  2025-07-30    \u001b[2m000000\u001b[0m\u001b[1;37m4904\u001b[0m-\u001b[94m25\u001b[0m-\u001b[2m000\u001b[0m\u001b[1;37m1…\u001b[0m   \u001b[1;38;5;245m│\u001b[0m\n",
       "\u001b[1;38;5;245m│\u001b[0m   \u001b[1m \u001b[0m\u001b[1m10-Q     \u001b[0m\u001b[1m \u001b[0m \u001b[1;2m \u001b[0m\u001b[1;2m  1702494\u001b[0m\u001b[1;2m \u001b[0m \u001b[1;33m \u001b[0m\u001b[1;33m      \u001b[0m\u001b[1;33m \u001b[0m \u001b[1;32m \u001b[0m\u001b[1;32mAEP Transmission Company, LLC        \u001b[0m\u001b[1;32m \u001b[0m \u001b[1m \u001b[0m\u001b[1m2025-07-30 \u001b[0m\u001b[1m \u001b[0m \u001b[1m \u001b[0m\u001b[1;2m000000\u001b[0m\u001b[1;37m4904\u001b[0m\u001b[1m-\u001b[0m\u001b[1;94m25\u001b[0m\u001b[1m-\u001b[0m\u001b[1;2m000\u001b[0m\u001b[1;37m1…\u001b[0m\u001b[1m \u001b[0m  \u001b[1;38;5;245m│\u001b[0m\n",
       "\u001b[1;38;5;245m│\u001b[0m    10-Q       \u001b[2m \u001b[0m\u001b[2m   819793\u001b[0m\u001b[2m \u001b[0m \u001b[33m \u001b[0m\u001b[33mAIN   \u001b[0m\u001b[33m \u001b[0m \u001b[1;32m \u001b[0m\u001b[1;32mALBANY INTERNATIONAL CORP /DE/       \u001b[0m\u001b[1;32m \u001b[0m  2025-07-30    \u001b[2m0000\u001b[0m\u001b[1;37m819793\u001b[0m-\u001b[94m25\u001b[0m-\u001b[2m0000\u001b[0m\u001b[1;37m…\u001b[0m   \u001b[1;38;5;245m│\u001b[0m\n",
       "\u001b[1;38;5;245m│\u001b[0m   \u001b[1m \u001b[0m\u001b[1m10-Q     \u001b[0m\u001b[1m \u001b[0m \u001b[1;2m \u001b[0m\u001b[1;2m   899051\u001b[0m\u001b[1;2m \u001b[0m \u001b[1;33m \u001b[0m\u001b[1;33mALL   \u001b[0m\u001b[1;33m \u001b[0m \u001b[1;32m \u001b[0m\u001b[1;32mALLSTATE CORP                        \u001b[0m\u001b[1;32m \u001b[0m \u001b[1m \u001b[0m\u001b[1m2025-07-30 \u001b[0m\u001b[1m \u001b[0m \u001b[1m \u001b[0m\u001b[1;2m0000\u001b[0m\u001b[1;37m899051\u001b[0m\u001b[1m-\u001b[0m\u001b[1;94m25\u001b[0m\u001b[1m-\u001b[0m\u001b[1;2m0000\u001b[0m\u001b[1;37m…\u001b[0m\u001b[1m \u001b[0m  \u001b[1;38;5;245m│\u001b[0m\n",
       "\u001b[1;38;5;245m│\u001b[0m    10-Q       \u001b[2m \u001b[0m\u001b[2m   764180\u001b[0m\u001b[2m \u001b[0m \u001b[33m \u001b[0m\u001b[33mMO    \u001b[0m\u001b[33m \u001b[0m \u001b[1;32m \u001b[0m\u001b[1;32mALTRIA GROUP, INC.                   \u001b[0m\u001b[1;32m \u001b[0m  2025-07-30    \u001b[2m0000\u001b[0m\u001b[1;37m764180\u001b[0m-\u001b[94m25\u001b[0m-\u001b[2m000\u001b[0m\u001b[1;37m1…\u001b[0m   \u001b[1;38;5;245m│\u001b[0m\n",
       "\u001b[1;38;5;245m│\u001b[0m   \u001b[1m \u001b[0m\u001b[1m10-Q     \u001b[0m\u001b[1m \u001b[0m \u001b[1;2m \u001b[0m\u001b[1;2m   897448\u001b[0m\u001b[1;2m \u001b[0m \u001b[1;33m \u001b[0m\u001b[1;33mAMRN  \u001b[0m\u001b[1;33m \u001b[0m \u001b[1;32m \u001b[0m\u001b[1;32mAMARIN CORP PLC\\UK                   \u001b[0m\u001b[1;32m \u001b[0m \u001b[1m \u001b[0m\u001b[1m2025-07-30 \u001b[0m\u001b[1m \u001b[0m \u001b[1m \u001b[0m\u001b[1;2m0000\u001b[0m\u001b[1;37m950170\u001b[0m\u001b[1m-\u001b[0m\u001b[1;94m25\u001b[0m\u001b[1m-\u001b[0m\u001b[1;2m0\u001b[0m\u001b[1;37m998…\u001b[0m\u001b[1m \u001b[0m  \u001b[1;38;5;245m│\u001b[0m\n",
       "\u001b[1;38;5;245m│\u001b[0m    10-Q       \u001b[2m \u001b[0m\u001b[2m   896262\u001b[0m\u001b[2m \u001b[0m \u001b[33m \u001b[0m\u001b[33mAMED  \u001b[0m\u001b[33m \u001b[0m \u001b[1;32m \u001b[0m\u001b[1;32mAMEDISYS INC                         \u001b[0m\u001b[1;32m \u001b[0m  2025-07-30    \u001b[2m0000\u001b[0m\u001b[1;37m896262\u001b[0m-\u001b[94m25\u001b[0m-\u001b[2m0000\u001b[0m\u001b[1;37m…\u001b[0m   \u001b[1;38;5;245m│\u001b[0m\n",
       "\u001b[1;38;5;245m│\u001b[0m   \u001b[1m \u001b[0m\u001b[1m10-Q     \u001b[0m\u001b[1m \u001b[0m \u001b[1;2m \u001b[0m\u001b[1;2m     4904\u001b[0m\u001b[1;2m \u001b[0m \u001b[1;33m \u001b[0m\u001b[1;33mAEP   \u001b[0m\u001b[1;33m \u001b[0m \u001b[1;32m \u001b[0m\u001b[1;32mAMERICAN ELECTRIC POWER CO INC       \u001b[0m\u001b[1;32m \u001b[0m \u001b[1m \u001b[0m\u001b[1m2025-07-30 \u001b[0m\u001b[1m \u001b[0m \u001b[1m \u001b[0m\u001b[1;2m000000\u001b[0m\u001b[1;37m4904\u001b[0m\u001b[1m-\u001b[0m\u001b[1;94m25\u001b[0m\u001b[1m-\u001b[0m\u001b[1;2m000\u001b[0m\u001b[1;37m1…\u001b[0m\u001b[1m \u001b[0m  \u001b[1;38;5;245m│\u001b[0m\n",
       "\u001b[1;38;5;245m│\u001b[0m    10-Q       \u001b[2m \u001b[0m\u001b[2m   880807\u001b[0m\u001b[2m \u001b[0m \u001b[33m \u001b[0m\u001b[33mAMSC  \u001b[0m\u001b[33m \u001b[0m \u001b[1;32m \u001b[0m\u001b[1;32mAMERICAN SUPERCONDUCTOR CORP /DE/    \u001b[0m\u001b[1;32m \u001b[0m  2025-07-30    \u001b[2m000\u001b[0m\u001b[1;37m1437749\u001b[0m-\u001b[94m25\u001b[0m-\u001b[2m0\u001b[0m\u001b[1;37m239…\u001b[0m   \u001b[1;38;5;245m│\u001b[0m\n",
       "\u001b[1;38;5;245m│\u001b[0m   \u001b[1m \u001b[0m\u001b[1m10-Q     \u001b[0m\u001b[1m \u001b[0m \u001b[1;2m \u001b[0m\u001b[1;2m  1043219\u001b[0m\u001b[1;2m \u001b[0m \u001b[1;33m \u001b[0m\u001b[1;33mNLY   \u001b[0m\u001b[1;33m \u001b[0m \u001b[1;32m \u001b[0m\u001b[1;32mANNALY CAPITAL MANAGEMENT INC        \u001b[0m\u001b[1;32m \u001b[0m \u001b[1m \u001b[0m\u001b[1m2025-07-30 \u001b[0m\u001b[1m \u001b[0m \u001b[1m \u001b[0m\u001b[1;2m000\u001b[0m\u001b[1;37m1628280\u001b[0m\u001b[1m-\u001b[0m\u001b[1;94m25\u001b[0m\u001b[1m-\u001b[0m\u001b[1;2m0\u001b[0m\u001b[1;37m367…\u001b[0m\u001b[1m \u001b[0m  \u001b[1;38;5;245m│\u001b[0m\n",
       "\u001b[1;38;5;245m│\u001b[0m    10-Q       \u001b[2m \u001b[0m\u001b[2m  1433270\u001b[0m\u001b[2m \u001b[0m \u001b[33m \u001b[0m\u001b[33mAR    \u001b[0m\u001b[33m \u001b[0m \u001b[1;32m \u001b[0m\u001b[1;32mANTERO RESOURCES Corp                \u001b[0m\u001b[1;32m \u001b[0m  2025-07-30    \u001b[2m000\u001b[0m\u001b[1;37m1558370\u001b[0m-\u001b[94m25\u001b[0m-\u001b[2m00\u001b[0m\u001b[1;37m98…\u001b[0m   \u001b[1;38;5;245m│\u001b[0m\n",
       "\u001b[1;38;5;245m│\u001b[0m   \u001b[1m \u001b[0m\u001b[1m10-Q     \u001b[0m\u001b[1m \u001b[0m \u001b[1;2m \u001b[0m\u001b[1;2m     6879\u001b[0m\u001b[1;2m \u001b[0m \u001b[1;33m \u001b[0m\u001b[1;33m      \u001b[0m\u001b[1;33m \u001b[0m \u001b[1;32m \u001b[0m\u001b[1;32mAPPALACHIAN POWER CO                 \u001b[0m\u001b[1;32m \u001b[0m \u001b[1m \u001b[0m\u001b[1m2025-07-30 \u001b[0m\u001b[1m \u001b[0m \u001b[1m \u001b[0m\u001b[1;2m000000\u001b[0m\u001b[1;37m4904\u001b[0m\u001b[1m-\u001b[0m\u001b[1;94m25\u001b[0m\u001b[1m-\u001b[0m\u001b[1;2m000\u001b[0m\u001b[1;37m1…\u001b[0m\u001b[1m \u001b[0m  \u001b[1;38;5;245m│\u001b[0m\n",
       "\u001b[1;38;5;245m│\u001b[0m    10-Q       \u001b[2m \u001b[0m\u001b[2m  1144980\u001b[0m\u001b[2m \u001b[0m \u001b[33m \u001b[0m\u001b[33mABG   \u001b[0m\u001b[33m \u001b[0m \u001b[1;32m \u001b[0m\u001b[1;32mASBURY AUTOMOTIVE GROUP INC          \u001b[0m\u001b[1;32m \u001b[0m  2025-07-30    \u001b[2m000\u001b[0m\u001b[1;37m1144980\u001b[0m-\u001b[94m25\u001b[0m-\u001b[2m000\u001b[0m\u001b[1;37m1…\u001b[0m   \u001b[1;38;5;245m│\u001b[0m\n",
       "\u001b[1;38;5;245m│\u001b[0m   \u001b[1m \u001b[0m\u001b[1m10-Q     \u001b[0m\u001b[1m \u001b[0m \u001b[1;2m \u001b[0m\u001b[1;2m   890564\u001b[0m\u001b[1;2m \u001b[0m \u001b[1;33m \u001b[0m\u001b[1;33mASGN  \u001b[0m\u001b[1;33m \u001b[0m \u001b[1;32m \u001b[0m\u001b[1;32mASGN Inc                             \u001b[0m\u001b[1;32m \u001b[0m \u001b[1m \u001b[0m\u001b[1m2025-07-30 \u001b[0m\u001b[1m \u001b[0m \u001b[1m \u001b[0m\u001b[1;2m0000\u001b[0m\u001b[1;37m890564\u001b[0m\u001b[1m-\u001b[0m\u001b[1;94m25\u001b[0m\u001b[1m-\u001b[0m\u001b[1;2m0000\u001b[0m\u001b[1;37m…\u001b[0m\u001b[1m \u001b[0m  \u001b[1;38;5;245m│\u001b[0m\n",
       "\u001b[1;38;5;245m│\u001b[0m    10-Q       \u001b[2m \u001b[0m\u001b[2m  1674862\u001b[0m\u001b[2m \u001b[0m \u001b[33m \u001b[0m\u001b[33mASH   \u001b[0m\u001b[33m \u001b[0m \u001b[1;32m \u001b[0m\u001b[1;32mASHLAND INC.                         \u001b[0m\u001b[1;32m \u001b[0m  2025-07-30    \u001b[2m0000\u001b[0m\u001b[1;37m950170\u001b[0m-\u001b[94m25\u001b[0m-\u001b[1;37m1002…\u001b[0m   \u001b[1;38;5;245m│\u001b[0m\n",
       "\u001b[1;38;5;245m│\u001b[0m   \u001b[1m \u001b[0m\u001b[1m10-Q     \u001b[0m\u001b[1m \u001b[0m \u001b[1;2m \u001b[0m\u001b[1;2m   723612\u001b[0m\u001b[1;2m \u001b[0m \u001b[1;33m \u001b[0m\u001b[1;33mCAR   \u001b[0m\u001b[1;33m \u001b[0m \u001b[1;32m \u001b[0m\u001b[1;32mAVIS BUDGET GROUP, INC.              \u001b[0m\u001b[1;32m \u001b[0m \u001b[1m \u001b[0m\u001b[1m2025-07-30 \u001b[0m\u001b[1m \u001b[0m \u001b[1m \u001b[0m\u001b[1;2m0000\u001b[0m\u001b[1;37m723612\u001b[0m\u001b[1m-\u001b[0m\u001b[1;94m25\u001b[0m\u001b[1m-\u001b[0m\u001b[1;2m0000\u001b[0m\u001b[1;37m…\u001b[0m\u001b[1m \u001b[0m  \u001b[1;38;5;245m│\u001b[0m\n",
       "\u001b[1;38;5;245m│\u001b[0m    10-Q       \u001b[2m \u001b[0m\u001b[2m  2031561\u001b[0m\u001b[2m \u001b[0m \u001b[33m \u001b[0m\u001b[33mALDF  \u001b[0m\u001b[33m \u001b[0m \u001b[1;32m \u001b[0m\u001b[1;32mAldel Financial II Inc.              \u001b[0m\u001b[1;32m \u001b[0m  2025-07-30    \u001b[2m000\u001b[0m\u001b[1;37m1410578\u001b[0m-\u001b[94m25\u001b[0m-\u001b[2m00\u001b[0m\u001b[1;37m15…\u001b[0m   \u001b[1;38;5;245m│\u001b[0m\n",
       "\u001b[1;38;5;245m│\u001b[0m   \u001b[1m \u001b[0m\u001b[1m10-Q     \u001b[0m\u001b[1m \u001b[0m \u001b[1;2m \u001b[0m\u001b[1;2m  1832466\u001b[0m\u001b[1;2m \u001b[0m \u001b[1;33m \u001b[0m\u001b[1;33mALHC  \u001b[0m\u001b[1;33m \u001b[0m \u001b[1;32m \u001b[0m\u001b[1;32mAlignment Healthcare, Inc.           \u001b[0m\u001b[1;32m \u001b[0m \u001b[1m \u001b[0m\u001b[1m2025-07-30 \u001b[0m\u001b[1m \u001b[0m \u001b[1m \u001b[0m\u001b[1;2m000\u001b[0m\u001b[1;37m1628280\u001b[0m\u001b[1m-\u001b[0m\u001b[1;94m25\u001b[0m\u001b[1m-\u001b[0m\u001b[1;2m0\u001b[0m\u001b[1;37m367…\u001b[0m\u001b[1m \u001b[0m  \u001b[1;38;5;245m│\u001b[0m\n",
       "\u001b[1;38;5;245m│\u001b[0m    10-Q       \u001b[2m \u001b[0m\u001b[2m  1720025\u001b[0m\u001b[2m \u001b[0m \u001b[33m \u001b[0m\u001b[33m      \u001b[0m\u001b[33m \u001b[0m \u001b[1;32m \u001b[0m\u001b[1;32mAllegro Merger Corp.                 \u001b[0m\u001b[1;32m \u001b[0m  2025-07-30    \u001b[2m000\u001b[0m\u001b[1;37m1213900\u001b[0m-\u001b[94m25\u001b[0m-\u001b[2m0\u001b[0m\u001b[1;37m693…\u001b[0m   \u001b[1;38;5;245m│\u001b[0m\n",
       "\u001b[1;38;5;245m│\u001b[0m   \u001b[1m \u001b[0m\u001b[1m10-Q     \u001b[0m\u001b[1m \u001b[0m \u001b[1;2m \u001b[0m\u001b[1;2m  1410636\u001b[0m\u001b[1;2m \u001b[0m \u001b[1;33m \u001b[0m\u001b[1;33mAWK   \u001b[0m\u001b[1;33m \u001b[0m \u001b[1;32m \u001b[0m\u001b[1;32mAmerican Water Works Company, Inc.   \u001b[0m\u001b[1;32m \u001b[0m \u001b[1m \u001b[0m\u001b[1m2025-07-30 \u001b[0m\u001b[1m \u001b[0m \u001b[1m \u001b[0m\u001b[1;2m000\u001b[0m\u001b[1;37m1410636\u001b[0m\u001b[1m-\u001b[0m\u001b[1;94m25\u001b[0m\u001b[1m-\u001b[0m\u001b[1;2m000\u001b[0m\u001b[1;37m1…\u001b[0m\u001b[1m \u001b[0m  \u001b[1;38;5;245m│\u001b[0m\n",
       "\u001b[1;38;5;245m│\u001b[0m    10-Q       \u001b[2m \u001b[0m\u001b[2m   898437\u001b[0m\u001b[2m \u001b[0m \u001b[33m \u001b[0m\u001b[33mANIK  \u001b[0m\u001b[33m \u001b[0m \u001b[1;32m \u001b[0m\u001b[1;32mAnika Therapeutics, Inc.             \u001b[0m\u001b[1;32m \u001b[0m  2025-07-30    \u001b[2m000\u001b[0m\u001b[1;37m1171843\u001b[0m-\u001b[94m25\u001b[0m-\u001b[2m00\u001b[0m\u001b[1;37m48…\u001b[0m   \u001b[1;38;5;245m│\u001b[0m\n",
       "\u001b[1;38;5;245m│\u001b[0m   \u001b[1m \u001b[0m\u001b[1m10-Q     \u001b[0m\u001b[1m \u001b[0m \u001b[1;2m \u001b[0m\u001b[1;2m  1623925\u001b[0m\u001b[1;2m \u001b[0m \u001b[1;33m \u001b[0m\u001b[1;33mAM    \u001b[0m\u001b[1;33m \u001b[0m \u001b[1;32m \u001b[0m\u001b[1;32mAntero Midstream Corp                \u001b[0m\u001b[1;32m \u001b[0m \u001b[1m \u001b[0m\u001b[1m2025-07-30 \u001b[0m\u001b[1m \u001b[0m \u001b[1m \u001b[0m\u001b[1;2m000\u001b[0m\u001b[1;37m1558370\u001b[0m\u001b[1m-\u001b[0m\u001b[1;94m25\u001b[0m\u001b[1m-\u001b[0m\u001b[1;2m00\u001b[0m\u001b[1;37m98…\u001b[0m\u001b[1m \u001b[0m  \u001b[1;38;5;245m│\u001b[0m\n",
       "\u001b[1;38;5;245m│\u001b[0m    10-Q       \u001b[2m \u001b[0m\u001b[2m  1323885\u001b[0m\u001b[2m \u001b[0m \u001b[33m \u001b[0m\u001b[33mATRC  \u001b[0m\u001b[33m \u001b[0m \u001b[1;32m \u001b[0m\u001b[1;32mAtriCure, Inc.                       \u001b[0m\u001b[1;32m \u001b[0m  2025-07-30    \u001b[2m000\u001b[0m\u001b[1;37m1323885\u001b[0m-\u001b[94m25\u001b[0m-\u001b[2m0000\u001b[0m\u001b[1;37m…\u001b[0m   \u001b[1;38;5;245m│\u001b[0m\n",
       "\u001b[1;38;5;245m│\u001b[0m   \u001b[1m \u001b[0m\u001b[1m10-Q     \u001b[0m\u001b[1m \u001b[0m \u001b[1;2m \u001b[0m\u001b[1;2m  1828108\u001b[0m\u001b[1;2m \u001b[0m \u001b[1;33m \u001b[0m\u001b[1;33mAUR   \u001b[0m\u001b[1;33m \u001b[0m \u001b[1;32m \u001b[0m\u001b[1;32mAurora Innovation, Inc.              \u001b[0m\u001b[1;32m \u001b[0m \u001b[1m \u001b[0m\u001b[1m2025-07-30 \u001b[0m\u001b[1m \u001b[0m \u001b[1m \u001b[0m\u001b[1;2m000\u001b[0m\u001b[1;37m1828108\u001b[0m\u001b[1m-\u001b[0m\u001b[1;94m25\u001b[0m\u001b[1m-\u001b[0m\u001b[1;2m000\u001b[0m\u001b[1;37m1…\u001b[0m\u001b[1m \u001b[0m  \u001b[1;38;5;245m│\u001b[0m\n",
       "\u001b[1;38;5;245m│\u001b[0m    10-Q       \u001b[2m \u001b[0m\u001b[2m  1616862\u001b[0m\u001b[2m \u001b[0m \u001b[33m \u001b[0m\u001b[33mAXTA  \u001b[0m\u001b[33m \u001b[0m \u001b[1;32m \u001b[0m\u001b[1;32mAxalta Coating Systems Ltd.          \u001b[0m\u001b[1;32m \u001b[0m  2025-07-30    \u001b[2m000\u001b[0m\u001b[1;37m1616862\u001b[0m-\u001b[94m25\u001b[0m-\u001b[2m0000\u001b[0m\u001b[1;37m…\u001b[0m   \u001b[1;38;5;245m│\u001b[0m\n",
       "\u001b[1;38;5;245m│\u001b[0m   \u001b[1m \u001b[0m\u001b[1m10-Q     \u001b[0m\u001b[1m \u001b[0m \u001b[1;2m \u001b[0m\u001b[1;2m  1156388\u001b[0m\u001b[1;2m \u001b[0m \u001b[1;33m \u001b[0m\u001b[1;33mBGFV  \u001b[0m\u001b[1;33m \u001b[0m \u001b[1;32m \u001b[0m\u001b[1;32mBIG 5 SPORTING GOODS Corp            \u001b[0m\u001b[1;32m \u001b[0m \u001b[1m \u001b[0m\u001b[1m2025-07-30 \u001b[0m\u001b[1m \u001b[0m \u001b[1m \u001b[0m\u001b[1;2m0000\u001b[0m\u001b[1;37m950170\u001b[0m\u001b[1m-\u001b[0m\u001b[1;94m25\u001b[0m\u001b[1m-\u001b[0m\u001b[1;37m1000…\u001b[0m\u001b[1m \u001b[0m  \u001b[1;38;5;245m│\u001b[0m\n",
       "\u001b[1;38;5;245m│\u001b[0m    10-Q       \u001b[2m \u001b[0m\u001b[2m  1280058\u001b[0m\u001b[2m \u001b[0m \u001b[33m \u001b[0m\u001b[33mBLKB  \u001b[0m\u001b[33m \u001b[0m \u001b[1;32m \u001b[0m\u001b[1;32mBLACKBAUD INC                        \u001b[0m\u001b[1;32m \u001b[0m  2025-07-30    \u001b[2m000\u001b[0m\u001b[1;37m1280058\u001b[0m-\u001b[94m25\u001b[0m-\u001b[2m0000\u001b[0m\u001b[1;37m…\u001b[0m   \u001b[1;38;5;245m│\u001b[0m\n",
       "\u001b[1;38;5;245m│\u001b[0m   \u001b[1m \u001b[0m\u001b[1m10-Q     \u001b[0m\u001b[1m \u001b[0m \u001b[1;2m \u001b[0m\u001b[1;2m  1061630\u001b[0m\u001b[1;2m \u001b[0m \u001b[1;33m \u001b[0m\u001b[1;33mBXMT  \u001b[0m\u001b[1;33m \u001b[0m \u001b[1;32m \u001b[0m\u001b[1;32mBLACKSTONE MORTGAGE TRUST, INC.      \u001b[0m\u001b[1;32m \u001b[0m \u001b[1m \u001b[0m\u001b[1m2025-07-30 \u001b[0m\u001b[1m \u001b[0m \u001b[1m \u001b[0m\u001b[1;2m000\u001b[0m\u001b[1;37m1061630\u001b[0m\u001b[1m-\u001b[0m\u001b[1;94m25\u001b[0m\u001b[1m-\u001b[0m\u001b[1;2m000\u001b[0m\u001b[1;37m1…\u001b[0m\u001b[1m \u001b[0m  \u001b[1;38;5;245m│\u001b[0m\n",
       "\u001b[1;38;5;245m│\u001b[0m    10-Q       \u001b[2m \u001b[0m\u001b[2m   875357\u001b[0m\u001b[2m \u001b[0m \u001b[33m \u001b[0m\u001b[33mBOKF  \u001b[0m\u001b[33m \u001b[0m \u001b[1;32m \u001b[0m\u001b[1;32mBOK FINANCIAL CORP                   \u001b[0m\u001b[1;32m \u001b[0m  2025-07-30    \u001b[2m0000\u001b[0m\u001b[1;37m875357\u001b[0m-\u001b[94m25\u001b[0m-\u001b[2m0000\u001b[0m\u001b[1;37m…\u001b[0m   \u001b[1;38;5;245m│\u001b[0m\n",
       "\u001b[1;38;5;245m│\u001b[0m   \u001b[1m \u001b[0m\u001b[1m10-Q     \u001b[0m\u001b[1m \u001b[0m \u001b[1;2m \u001b[0m\u001b[1;2m   906553\u001b[0m\u001b[1;2m \u001b[0m \u001b[1;33m \u001b[0m\u001b[1;33mBYD   \u001b[0m\u001b[1;33m \u001b[0m \u001b[1;32m \u001b[0m\u001b[1;32mBOYD GAMING CORP                     \u001b[0m\u001b[1;32m \u001b[0m \u001b[1m \u001b[0m\u001b[1m2025-07-30 \u001b[0m\u001b[1m \u001b[0m \u001b[1m \u001b[0m\u001b[1;2m000\u001b[0m\u001b[1;37m1437749\u001b[0m\u001b[1m-\u001b[0m\u001b[1;94m25\u001b[0m\u001b[1m-\u001b[0m\u001b[1;2m0\u001b[0m\u001b[1;37m239…\u001b[0m\u001b[1m \u001b[0m  \u001b[1;38;5;245m│\u001b[0m\n",
       "\u001b[1;38;5;245m│\u001b[0m    10-Q       \u001b[2m \u001b[0m\u001b[2m    14930\u001b[0m\u001b[2m \u001b[0m \u001b[33m \u001b[0m\u001b[33mBC    \u001b[0m\u001b[33m \u001b[0m \u001b[1;32m \u001b[0m\u001b[1;32mBRUNSWICK CORP                       \u001b[0m\u001b[1;32m \u001b[0m  2025-07-30    \u001b[2m00000\u001b[0m\u001b[1;37m14930\u001b[0m-\u001b[94m25\u001b[0m-\u001b[2m0000\u001b[0m\u001b[1;37m…\u001b[0m   \u001b[1;38;5;245m│\u001b[0m\n",
       "\u001b[1;38;5;245m│\u001b[0m   \u001b[1m \u001b[0m\u001b[1m10-Q     \u001b[0m\u001b[1m \u001b[0m \u001b[1;2m \u001b[0m\u001b[1;2m  1860742\u001b[0m\u001b[1;2m \u001b[0m \u001b[1;33m \u001b[0m\u001b[1;33mBLCO  \u001b[0m\u001b[1;33m \u001b[0m \u001b[1;32m \u001b[0m\u001b[1;32mBausch & Lomb Corp                   \u001b[0m\u001b[1;32m \u001b[0m \u001b[1m \u001b[0m\u001b[1m2025-07-30 \u001b[0m\u001b[1m \u001b[0m \u001b[1m \u001b[0m\u001b[1;2m000\u001b[0m\u001b[1;37m1860742\u001b[0m\u001b[1m-\u001b[0m\u001b[1;94m25\u001b[0m\u001b[1m-\u001b[0m\u001b[1;2m0000\u001b[0m\u001b[1;37m…\u001b[0m\u001b[1m \u001b[0m  \u001b[1;38;5;245m│\u001b[0m\n",
       "\u001b[1;38;5;245m│\u001b[0m    10-Q       \u001b[2m \u001b[0m\u001b[2m  1717547\u001b[0m\u001b[2m \u001b[0m \u001b[33m \u001b[0m\u001b[33mBRSP  \u001b[0m\u001b[33m \u001b[0m \u001b[1;32m \u001b[0m\u001b[1;32mBrightSpire Capital, Inc.            \u001b[0m\u001b[1;32m \u001b[0m  2025-07-30    \u001b[2m000\u001b[0m\u001b[1;37m1717547\u001b[0m-\u001b[94m25\u001b[0m-\u001b[2m0000\u001b[0m\u001b[1;37m…\u001b[0m   \u001b[1;38;5;245m│\u001b[0m\n",
       "\u001b[1;38;5;245m│\u001b[0m   \u001b[1m \u001b[0m\u001b[1m10-Q     \u001b[0m\u001b[1m \u001b[0m \u001b[1;2m \u001b[0m\u001b[1;2m   813672\u001b[0m\u001b[1;2m \u001b[0m \u001b[1;33m \u001b[0m\u001b[1;33mCDNS  \u001b[0m\u001b[1;33m \u001b[0m \u001b[1;32m \u001b[0m\u001b[1;32mCADENCE DESIGN SYSTEMS INC           \u001b[0m\u001b[1;32m \u001b[0m \u001b[1m \u001b[0m\u001b[1m2025-07-30 \u001b[0m\u001b[1m \u001b[0m \u001b[1m \u001b[0m\u001b[1;2m0000\u001b[0m\u001b[1;37m813672\u001b[0m\u001b[1m-\u001b[0m\u001b[1;94m25\u001b[0m\u001b[1m-\u001b[0m\u001b[1;2m000\u001b[0m\u001b[1;37m1…\u001b[0m\u001b[1m \u001b[0m  \u001b[1;38;5;245m│\u001b[0m\n",
       "\u001b[1;38;5;245m│\u001b[0m    10-Q       \u001b[2m \u001b[0m\u001b[2m  1690820\u001b[0m\u001b[2m \u001b[0m \u001b[33m \u001b[0m\u001b[33mCVNA  \u001b[0m\u001b[33m \u001b[0m \u001b[1;32m \u001b[0m\u001b[1;32mCARVANA CO.                          \u001b[0m\u001b[1;32m \u001b[0m  2025-07-30    \u001b[2m000\u001b[0m\u001b[1;37m1690820\u001b[0m-\u001b[94m25\u001b[0m-\u001b[2m000\u001b[0m\u001b[1;37m3…\u001b[0m   \u001b[1;38;5;245m│\u001b[0m\n",
       "\u001b[1;38;5;245m│\u001b[0m   \u001b[1m \u001b[0m\u001b[1m10-Q     \u001b[0m\u001b[1m \u001b[0m \u001b[1;2m \u001b[0m\u001b[1;2m  1764046\u001b[0m\u001b[1;2m \u001b[0m \u001b[1;33m \u001b[0m\u001b[1;33mCLVT  \u001b[0m\u001b[1;33m \u001b[0m \u001b[1;32m \u001b[0m\u001b[1;32mCLARIVATE PLC                        \u001b[0m\u001b[1;32m \u001b[0m \u001b[1m \u001b[0m\u001b[1m2025-07-30 \u001b[0m\u001b[1m \u001b[0m \u001b[1m \u001b[0m\u001b[1;2m000\u001b[0m\u001b[1;37m1764046\u001b[0m\u001b[1m-\u001b[0m\u001b[1;94m25\u001b[0m\u001b[1m-\u001b[0m\u001b[1;2m0000\u001b[0m\u001b[1;37m…\u001b[0m\u001b[1m \u001b[0m  \u001b[1;38;5;245m│\u001b[0m\n",
       "\u001b[1;38;5;245m│\u001b[0m    10-Q       \u001b[2m \u001b[0m\u001b[2m   822818\u001b[0m\u001b[2m \u001b[0m \u001b[33m \u001b[0m\u001b[33mCLH   \u001b[0m\u001b[33m \u001b[0m \u001b[1;32m \u001b[0m\u001b[1;32mCLEAN HARBORS INC                    \u001b[0m\u001b[1;32m \u001b[0m  2025-07-30    \u001b[2m0000\u001b[0m\u001b[1;37m822818\u001b[0m-\u001b[94m25\u001b[0m-\u001b[2m0000\u001b[0m\u001b[1;37m…\u001b[0m   \u001b[1;38;5;245m│\u001b[0m\n",
       "\u001b[1;38;5;245m│\u001b[0m   \u001b[1m \u001b[0m\u001b[1m10-Q     \u001b[0m\u001b[1m \u001b[0m \u001b[1;2m \u001b[0m\u001b[1;2m  1005229\u001b[0m\u001b[1;2m \u001b[0m \u001b[1;33m \u001b[0m\u001b[1;33mCMCO  \u001b[0m\u001b[1;33m \u001b[0m \u001b[1;32m \u001b[0m\u001b[1;32mCOLUMBUS MCKINNON CORP               \u001b[0m\u001b[1;32m \u001b[0m \u001b[1m \u001b[0m\u001b[1m2025-07-30 \u001b[0m\u001b[1m \u001b[0m \u001b[1m \u001b[0m\u001b[1;2m000\u001b[0m\u001b[1;37m1005229\u001b[0m\u001b[1m-\u001b[0m\u001b[1;94m25\u001b[0m\u001b[1m-\u001b[0m\u001b[1;2m000\u001b[0m\u001b[1;37m2…\u001b[0m\u001b[1m \u001b[0m  \u001b[1;38;5;245m│\u001b[0m\n",
       "\u001b[1;38;5;245m│\u001b[0m    10-Q       \u001b[2m \u001b[0m\u001b[2m    28412\u001b[0m\u001b[2m \u001b[0m \u001b[33m \u001b[0m\u001b[33mCMA   \u001b[0m\u001b[33m \u001b[0m \u001b[1;32m \u001b[0m\u001b[1;32mCOMERICA INC /NEW/                   \u001b[0m\u001b[1;32m \u001b[0m  2025-07-30    \u001b[2m00000\u001b[0m\u001b[1;37m28412\u001b[0m-\u001b[94m25\u001b[0m-\u001b[2m000\u001b[0m\u001b[1;37m1…\u001b[0m   \u001b[1;38;5;245m│\u001b[0m\n",
       "\u001b[1;38;5;245m│\u001b[0m   \u001b[1m \u001b[0m\u001b[1m10-Q     \u001b[0m\u001b[1m \u001b[0m \u001b[1;2m \u001b[0m\u001b[1;2m  1169561\u001b[0m\u001b[1;2m \u001b[0m \u001b[1;33m \u001b[0m\u001b[1;33mCVLT  \u001b[0m\u001b[1;33m \u001b[0m \u001b[1;32m \u001b[0m\u001b[1;32mCOMMVAULT SYSTEMS INC                \u001b[0m\u001b[1;32m \u001b[0m \u001b[1m \u001b[0m\u001b[1m2025-07-30 \u001b[0m\u001b[1m \u001b[0m \u001b[1m \u001b[0m\u001b[1;2m000\u001b[0m\u001b[1;37m1169561\u001b[0m\u001b[1m-\u001b[0m\u001b[1;94m25\u001b[0m\u001b[1m-\u001b[0m\u001b[1;2m0000\u001b[0m\u001b[1;37m…\u001b[0m\u001b[1m \u001b[0m  \u001b[1;38;5;245m│\u001b[0m\n",
       "\u001b[1;38;5;245m│\u001b[0m    10-Q       \u001b[2m \u001b[0m\u001b[2m  1669779\u001b[0m\u001b[2m \u001b[0m \u001b[33m \u001b[0m\u001b[33mCWH   \u001b[0m\u001b[33m \u001b[0m \u001b[1;32m \u001b[0m\u001b[1;32mCamping World Holdings, Inc.         \u001b[0m\u001b[1;32m \u001b[0m  2025-07-30    \u001b[2m000\u001b[0m\u001b[1;37m1558370\u001b[0m-\u001b[94m25\u001b[0m-\u001b[2m00\u001b[0m\u001b[1;37m97…\u001b[0m   \u001b[1;38;5;245m│\u001b[0m\n",
       "\u001b[1;38;5;245m│\u001b[0m   \u001b[1m \u001b[0m\u001b[1m10-Q     \u001b[0m\u001b[1m \u001b[0m \u001b[1;2m \u001b[0m\u001b[1;2m  1517175\u001b[0m\u001b[1;2m \u001b[0m \u001b[1;33m \u001b[0m\u001b[1;33mCHEF  \u001b[0m\u001b[1;33m \u001b[0m \u001b[1;32m \u001b[0m\u001b[1;32mChefs' Warehouse, Inc.               \u001b[0m\u001b[1;32m \u001b[0m \u001b[1m \u001b[0m\u001b[1m2025-07-30 \u001b[0m\u001b[1m \u001b[0m \u001b[1m \u001b[0m\u001b[1;2m000\u001b[0m\u001b[1;37m1628280\u001b[0m\u001b[1m-\u001b[0m\u001b[1;94m25\u001b[0m\u001b[1m-\u001b[0m\u001b[1;2m0\u001b[0m\u001b[1;37m365…\u001b[0m\u001b[1m \u001b[0m  \u001b[1;38;5;245m│\u001b[0m\n",
       "\u001b[1;38;5;245m│\u001b[0m    10-Q       \u001b[2m \u001b[0m\u001b[2m  1362516\u001b[0m\u001b[2m \u001b[0m \u001b[33m \u001b[0m\u001b[33mCLRI  \u001b[0m\u001b[33m \u001b[0m \u001b[1;32m \u001b[0m\u001b[1;32mCleartronic, Inc.                    \u001b[0m\u001b[1;32m \u001b[0m  2025-07-30    \u001b[2m000\u001b[0m\u001b[1;37m1091818\u001b[0m-\u001b[94m25\u001b[0m-\u001b[2m0000\u001b[0m\u001b[1;37m…\u001b[0m   \u001b[1;38;5;245m│\u001b[0m\n",
       "\u001b[1;38;5;245m│\u001b[0m   \u001b[1m \u001b[0m\u001b[1m10-Q     \u001b[0m\u001b[1m \u001b[0m \u001b[1;2m \u001b[0m\u001b[1;2m  1699838\u001b[0m\u001b[1;2m \u001b[0m \u001b[1;33m \u001b[0m\u001b[1;33mCFLT  \u001b[0m\u001b[1;33m \u001b[0m \u001b[1;32m \u001b[0m\u001b[1;32mConfluent, Inc.                      \u001b[0m\u001b[1;32m \u001b[0m \u001b[1m \u001b[0m\u001b[1m2025-07-30 \u001b[0m\u001b[1m \u001b[0m \u001b[1m \u001b[0m\u001b[1;2m000\u001b[0m\u001b[1;37m1699838\u001b[0m\u001b[1m-\u001b[0m\u001b[1;94m25\u001b[0m\u001b[1m-\u001b[0m\u001b[1;2m0000…\u001b[0m\u001b[1m \u001b[0m  \u001b[1;38;5;245m│\u001b[0m\n",
       "\u001b[1;38;5;245m│\u001b[0m    10-Q       \u001b[2m \u001b[0m\u001b[2m  1709682\u001b[0m\u001b[2m \u001b[0m \u001b[33m \u001b[0m\u001b[33mCTOS  \u001b[0m\u001b[33m \u001b[0m \u001b[1;32m \u001b[0m\u001b[1;32mCustom Truck One Source, Inc.        \u001b[0m\u001b[1;32m \u001b[0m  2025-07-30    \u001b[2m000\u001b[0m\u001b[1;37m1709682\u001b[0m-\u001b[94m25\u001b[0m-\u001b[2m0000\u001b[0m\u001b[1;37m…\u001b[0m   \u001b[1;38;5;245m│\u001b[0m\n",
       "\u001b[1;38;5;245m│\u001b[0m   \u001b[1m \u001b[0m\u001b[1m10-Q     \u001b[0m\u001b[1m \u001b[0m \u001b[1;2m \u001b[0m\u001b[1;2m  1093557\u001b[0m\u001b[1;2m \u001b[0m \u001b[1;33m \u001b[0m\u001b[1;33mDXCM  \u001b[0m\u001b[1;33m \u001b[0m \u001b[1;32m \u001b[0m\u001b[1;32mDEXCOM INC                           \u001b[0m\u001b[1;32m \u001b[0m \u001b[1m \u001b[0m\u001b[1m2025-07-30 \u001b[0m\u001b[1m \u001b[0m \u001b[1m \u001b[0m\u001b[1;2m000\u001b[0m\u001b[1;37m1093557\u001b[0m\u001b[1m-\u001b[0m\u001b[1;94m25\u001b[0m\u001b[1m-\u001b[0m\u001b[1;2m000\u001b[0m\u001b[1;37m2…\u001b[0m\u001b[1m \u001b[0m  \u001b[1;38;5;245m│\u001b[0m\n",
       "\u001b[1;38;5;245m│\u001b[0m    10-Q       \u001b[2m \u001b[0m\u001b[2m  1340476\u001b[0m\u001b[2m \u001b[0m \u001b[33m \u001b[0m\u001b[33mDRTT  \u001b[0m\u001b[33m \u001b[0m \u001b[1;32m \u001b[0m\u001b[1;32mDIRTT ENVIRONMENTAL SOLUTIONS LTD    \u001b[0m\u001b[1;32m \u001b[0m  2025-07-30    \u001b[2m0000\u001b[0m\u001b[1;37m950170\u001b[0m-\u001b[94m25\u001b[0m-\u001b[1;37m1003…\u001b[0m   \u001b[1;38;5;245m│\u001b[0m\n",
       "\u001b[1;38;5;245m│\u001b[0m   \u001b[1m \u001b[0m\u001b[1m10-Q     \u001b[0m\u001b[1m \u001b[0m \u001b[1;2m \u001b[0m\u001b[1;2m  1413898\u001b[0m\u001b[1;2m \u001b[0m \u001b[1;33m \u001b[0m\u001b[1;33mDALN  \u001b[0m\u001b[1;33m \u001b[0m \u001b[1;32m \u001b[0m\u001b[1;32mDallasNews Corp                      \u001b[0m\u001b[1;32m \u001b[0m \u001b[1m \u001b[0m\u001b[1m2025-07-30 \u001b[0m\u001b[1m \u001b[0m \u001b[1m \u001b[0m\u001b[1;2m000\u001b[0m\u001b[1;37m1413898\u001b[0m\u001b[1m-\u001b[0m\u001b[1;94m25\u001b[0m\u001b[1m-\u001b[0m\u001b[1;2m0000\u001b[0m\u001b[1;37m…\u001b[0m\u001b[1m \u001b[0m  \u001b[1;38;5;245m│\u001b[0m\n",
       "\u001b[1;38;5;245m│\u001b[0m                                                                                                                 \u001b[1;38;5;245m│\u001b[0m\n",
       "\u001b[1;38;5;245m│\u001b[0m                                                                                                                 \u001b[1;38;5;245m│\u001b[0m\n",
       "\u001b[1;38;5;245m│\u001b[0m                                                                                                                 \u001b[1;38;5;245m│\u001b[0m\n",
       "\u001b[1;38;5;245m│\u001b[0m \u001b[2mShowing \u001b[0m\u001b[1;31m1\u001b[0m\u001b[2m to \u001b[0m\u001b[1;31m50\u001b[0m\u001b[2m of \u001b[0m\u001b[1m748,578\u001b[0m\u001b[2m filings.\u001b[0m\u001b[2m Page using \u001b[0m\u001b[1;38;5;245m← prev()\u001b[0m\u001b[2m and \u001b[0m\u001b[1;38;5;245mnext() →\u001b[0m                                            \u001b[1;38;5;245m│\u001b[0m\n",
       "\u001b[1;38;5;245m╰─\u001b[0m\u001b[1;38;5;245m────────────────────────────────\u001b[0m\u001b[1;38;5;245m SEC Filings between 2025-01-01 and 2025-07-30 \u001b[0m\u001b[1;38;5;245m────────────────────────────────\u001b[0m\u001b[1;38;5;245m─╯\u001b[0m"
      ]
     },
     "execution_count": 35,
     "metadata": {},
     "output_type": "execute_result"
    }
   ],
   "source": [
    "filings"
   ]
  },
  {
   "cell_type": "code",
   "execution_count": 31,
   "id": "671ac728",
   "metadata": {},
   "outputs": [],
   "source": [
    "insider_filings = filings.filter(form=\"4\")"
   ]
  },
  {
   "cell_type": "code",
   "execution_count": 32,
   "id": "77682fc9",
   "metadata": {},
   "outputs": [
    {
     "data": {
      "text/html": [
       "<pre style=\"white-space:pre;overflow-x:auto;line-height:normal;font-family:Menlo,'DejaVu Sans Mono',consolas,'Courier New',monospace\"></pre>\n"
      ],
      "text/plain": []
     },
     "metadata": {},
     "output_type": "display_data"
    },
    {
     "data": {
      "text/plain": [
       "\u001b[1;38;5;245m╭─\u001b[0m\u001b[1;38;5;245m─────────────────────────────────────────────────\u001b[0m\u001b[1;38;5;245m SEC Filings \u001b[0m\u001b[1;38;5;245m─────────────────────────────────────────────────\u001b[0m\u001b[1;38;5;245m─╮\u001b[0m\n",
       "\u001b[1;38;5;245m│\u001b[0m                                                                                                                 \u001b[1;38;5;245m│\u001b[0m\n",
       "\u001b[1;38;5;245m│\u001b[0m   \u001b[1m \u001b[0m\u001b[1mForm     \u001b[0m\u001b[1m \u001b[0m \u001b[1m \u001b[0m\u001b[1m      CIK\u001b[0m\u001b[1m \u001b[0m \u001b[1m \u001b[0m\u001b[1mTicker\u001b[0m\u001b[1m \u001b[0m \u001b[1m \u001b[0m\u001b[1mCompany                              \u001b[0m\u001b[1m \u001b[0m \u001b[1m \u001b[0m\u001b[1mFiling Date\u001b[0m\u001b[1m \u001b[0m \u001b[1m \u001b[0m\u001b[1mAccession Number   \u001b[0m\u001b[1m \u001b[0m  \u001b[1;38;5;245m│\u001b[0m\n",
       "\u001b[1;38;5;245m│\u001b[0m  ─────────────────────────────────────────────────────────────────────────────────────────────────────────────  \u001b[1;38;5;245m│\u001b[0m\n",
       "\u001b[1;38;5;245m│\u001b[0m    4          \u001b[2m \u001b[0m\u001b[2m  1994334\u001b[0m\u001b[2m \u001b[0m \u001b[33m \u001b[0m\u001b[33m      \u001b[0m\u001b[33m \u001b[0m \u001b[1;32m \u001b[0m\u001b[1;32mA-6684 Ltd.                          \u001b[0m\u001b[1;32m \u001b[0m  2025-07-30    \u001b[2m000\u001b[0m\u001b[1;37m1994334\u001b[0m-\u001b[94m25\u001b[0m-\u001b[2m0000\u001b[0m\u001b[1;37m…\u001b[0m   \u001b[1;38;5;245m│\u001b[0m\n",
       "\u001b[1;38;5;245m│\u001b[0m   \u001b[1m \u001b[0m\u001b[1m4        \u001b[0m\u001b[1m \u001b[0m \u001b[1;2m \u001b[0m\u001b[1;2m  1703056\u001b[0m\u001b[1;2m \u001b[0m \u001b[1;33m \u001b[0m\u001b[1;33mADT   \u001b[0m\u001b[1;33m \u001b[0m \u001b[1;32m \u001b[0m\u001b[1;32mADT Inc.                             \u001b[0m\u001b[1;32m \u001b[0m \u001b[1m \u001b[0m\u001b[1m2025-07-30 \u001b[0m\u001b[1m \u001b[0m \u001b[1m \u001b[0m\u001b[1;2m000\u001b[0m\u001b[1;37m1104659\u001b[0m\u001b[1m-\u001b[0m\u001b[1;94m25\u001b[0m\u001b[1m-\u001b[0m\u001b[1;2m0\u001b[0m\u001b[1;37m723…\u001b[0m\u001b[1m \u001b[0m  \u001b[1;38;5;245m│\u001b[0m\n",
       "\u001b[1;38;5;245m│\u001b[0m    4          \u001b[2m \u001b[0m\u001b[2m  1703056\u001b[0m\u001b[2m \u001b[0m \u001b[33m \u001b[0m\u001b[33mADT   \u001b[0m\u001b[33m \u001b[0m \u001b[1;32m \u001b[0m\u001b[1;32mADT Inc.                             \u001b[0m\u001b[1;32m \u001b[0m  2025-07-30    \u001b[2m000\u001b[0m\u001b[1;37m1104659\u001b[0m-\u001b[94m25\u001b[0m-\u001b[2m0\u001b[0m\u001b[1;37m723…\u001b[0m   \u001b[1;38;5;245m│\u001b[0m\n",
       "\u001b[1;38;5;245m│\u001b[0m   \u001b[1m \u001b[0m\u001b[1m4        \u001b[0m\u001b[1m \u001b[0m \u001b[1;2m \u001b[0m\u001b[1;2m  2034863\u001b[0m\u001b[1;2m \u001b[0m \u001b[1;33m \u001b[0m\u001b[1;33m      \u001b[0m\u001b[1;33m \u001b[0m \u001b[1;32m \u001b[0m\u001b[1;32mAEI Capital Ltd                      \u001b[0m\u001b[1;32m \u001b[0m \u001b[1m \u001b[0m\u001b[1m2025-07-30 \u001b[0m\u001b[1m \u001b[0m \u001b[1m \u001b[0m\u001b[1;2m000\u001b[0m\u001b[1;37m1829126\u001b[0m\u001b[1m-\u001b[0m\u001b[1;94m25\u001b[0m\u001b[1m-\u001b[0m\u001b[1;2m00\u001b[0m\u001b[1;37m55…\u001b[0m\u001b[1m \u001b[0m  \u001b[1;38;5;245m│\u001b[0m\n",
       "\u001b[1;38;5;245m│\u001b[0m    4          \u001b[2m \u001b[0m\u001b[2m  2011995\u001b[0m\u001b[2m \u001b[0m \u001b[33m \u001b[0m\u001b[33m      \u001b[0m\u001b[33m \u001b[0m \u001b[1;32m \u001b[0m\u001b[1;32mAP DLF Offshore Investor, LP         \u001b[0m\u001b[1;32m \u001b[0m  2025-07-30    \u001b[2m000\u001b[0m\u001b[1;37m1104659\u001b[0m-\u001b[94m25\u001b[0m-\u001b[2m0\u001b[0m\u001b[1;37m723…\u001b[0m   \u001b[1;38;5;245m│\u001b[0m\n",
       "\u001b[1;38;5;245m│\u001b[0m   \u001b[1m \u001b[0m\u001b[1m4        \u001b[0m\u001b[1m \u001b[0m \u001b[1;2m \u001b[0m\u001b[1;2m  2044332\u001b[0m\u001b[1;2m \u001b[0m \u001b[1;33m \u001b[0m\u001b[1;33m      \u001b[0m\u001b[1;33m \u001b[0m \u001b[1;32m \u001b[0m\u001b[1;32mAP VIII PRIME SECURITY SERVICES MANA…\u001b[0m\u001b[1;32m \u001b[0m \u001b[1m \u001b[0m\u001b[1m2025-07-30 \u001b[0m\u001b[1m \u001b[0m \u001b[1m \u001b[0m\u001b[1;2m000\u001b[0m\u001b[1;37m1104659\u001b[0m\u001b[1m-\u001b[0m\u001b[1;94m25\u001b[0m\u001b[1m-\u001b[0m\u001b[1;2m0\u001b[0m\u001b[1;37m723…\u001b[0m\u001b[1m \u001b[0m  \u001b[1;38;5;245m│\u001b[0m\n",
       "\u001b[1;38;5;245m│\u001b[0m    4          \u001b[2m \u001b[0m\u001b[2m  1669605\u001b[0m\u001b[2m \u001b[0m \u001b[33m \u001b[0m\u001b[33m      \u001b[0m\u001b[33m \u001b[0m \u001b[1;32m \u001b[0m\u001b[1;32mAP VIII Prime Security Services Hold…\u001b[0m\u001b[1;32m \u001b[0m  2025-07-30    \u001b[2m000\u001b[0m\u001b[1;37m1104659\u001b[0m-\u001b[94m25\u001b[0m-\u001b[2m0\u001b[0m\u001b[1;37m723…\u001b[0m   \u001b[1;38;5;245m│\u001b[0m\n",
       "\u001b[1;38;5;245m│\u001b[0m   \u001b[1m \u001b[0m\u001b[1m4        \u001b[0m\u001b[1m \u001b[0m \u001b[1;2m \u001b[0m\u001b[1;2m  2012136\u001b[0m\u001b[1;2m \u001b[0m \u001b[1;33m \u001b[0m\u001b[1;33m      \u001b[0m\u001b[1;33m \u001b[0m \u001b[1;32m \u001b[0m\u001b[1;32mAPO Corp.                            \u001b[0m\u001b[1;32m \u001b[0m \u001b[1m \u001b[0m\u001b[1m2025-07-30 \u001b[0m\u001b[1m \u001b[0m \u001b[1m \u001b[0m\u001b[1;2m000\u001b[0m\u001b[1;37m1104659\u001b[0m\u001b[1m-\u001b[0m\u001b[1;94m25\u001b[0m\u001b[1m-\u001b[0m\u001b[1;2m0\u001b[0m\u001b[1;37m723…\u001b[0m\u001b[1m \u001b[0m  \u001b[1;38;5;245m│\u001b[0m\n",
       "\u001b[1;38;5;245m│\u001b[0m    4          \u001b[2m \u001b[0m\u001b[2m   100591\u001b[0m\u001b[2m \u001b[0m \u001b[33m \u001b[0m\u001b[33mAGX   \u001b[0m\u001b[33m \u001b[0m \u001b[1;32m \u001b[0m\u001b[1;32mARGAN INC                            \u001b[0m\u001b[1;32m \u001b[0m  2025-07-30    \u001b[2m000\u001b[0m\u001b[1;37m1415889\u001b[0m-\u001b[94m25\u001b[0m-\u001b[2m0\u001b[0m\u001b[1;37m206…\u001b[0m   \u001b[1;38;5;245m│\u001b[0m\n",
       "\u001b[1;38;5;245m│\u001b[0m   \u001b[1m \u001b[0m\u001b[1m4        \u001b[0m\u001b[1m \u001b[0m \u001b[1;2m \u001b[0m\u001b[1;2m   732717\u001b[0m\u001b[1;2m \u001b[0m \u001b[1;33m \u001b[0m\u001b[1;33mT     \u001b[0m\u001b[1;33m \u001b[0m \u001b[1;32m \u001b[0m\u001b[1;32mAT&T INC.                            \u001b[0m\u001b[1;32m \u001b[0m \u001b[1m \u001b[0m\u001b[1m2025-07-30 \u001b[0m\u001b[1m \u001b[0m \u001b[1m \u001b[0m\u001b[1;2m000\u001b[0m\u001b[1;37m1127602\u001b[0m\u001b[1m-\u001b[0m\u001b[1;94m25\u001b[0m\u001b[1m-\u001b[0m\u001b[1;2m0\u001b[0m\u001b[1;37m197…\u001b[0m\u001b[1m \u001b[0m  \u001b[1;38;5;245m│\u001b[0m\n",
       "\u001b[1;38;5;245m│\u001b[0m    4          \u001b[2m \u001b[0m\u001b[2m   732717\u001b[0m\u001b[2m \u001b[0m \u001b[33m \u001b[0m\u001b[33mT     \u001b[0m\u001b[33m \u001b[0m \u001b[1;32m \u001b[0m\u001b[1;32mAT&T INC.                            \u001b[0m\u001b[1;32m \u001b[0m  2025-07-30    \u001b[2m000\u001b[0m\u001b[1;37m1127602\u001b[0m-\u001b[94m25\u001b[0m-\u001b[2m0\u001b[0m\u001b[1;37m197…\u001b[0m   \u001b[1;38;5;245m│\u001b[0m\n",
       "\u001b[1;38;5;245m│\u001b[0m   \u001b[1m \u001b[0m\u001b[1m4        \u001b[0m\u001b[1m \u001b[0m \u001b[1;2m \u001b[0m\u001b[1;2m  1349132\u001b[0m\u001b[1;2m \u001b[0m \u001b[1;33m \u001b[0m\u001b[1;33m      \u001b[0m\u001b[1;33m \u001b[0m \u001b[1;32m \u001b[0m\u001b[1;32mAZZURRO CAPITAL INC                  \u001b[0m\u001b[1;32m \u001b[0m \u001b[1m \u001b[0m\u001b[1m2025-07-30 \u001b[0m\u001b[1m \u001b[0m \u001b[1m \u001b[0m\u001b[1;2m000\u001b[0m\u001b[1;37m1628280\u001b[0m\u001b[1m-\u001b[0m\u001b[1;94m25\u001b[0m\u001b[1m-\u001b[0m\u001b[1;2m0\u001b[0m\u001b[1;37m366…\u001b[0m\u001b[1m \u001b[0m  \u001b[1;38;5;245m│\u001b[0m\n",
       "\u001b[1;38;5;245m│\u001b[0m    4          \u001b[2m \u001b[0m\u001b[2m  1817358\u001b[0m\u001b[2m \u001b[0m \u001b[33m \u001b[0m\u001b[33mASO   \u001b[0m\u001b[33m \u001b[0m \u001b[1;32m \u001b[0m\u001b[1;32mAcademy Sports & Outdoors, Inc.      \u001b[0m\u001b[1;32m \u001b[0m  2025-07-30    \u001b[2m000\u001b[0m\u001b[1;37m1817358\u001b[0m-\u001b[94m25\u001b[0m-\u001b[2m000\u001b[0m\u001b[1;37m1…\u001b[0m   \u001b[1;38;5;245m│\u001b[0m\n",
       "\u001b[1;38;5;245m│\u001b[0m   \u001b[1m \u001b[0m\u001b[1m4        \u001b[0m\u001b[1m \u001b[0m \u001b[1;2m \u001b[0m\u001b[1;2m  2074392\u001b[0m\u001b[1;2m \u001b[0m \u001b[1;33m \u001b[0m\u001b[1;33m      \u001b[0m\u001b[1;33m \u001b[0m \u001b[1;32m \u001b[0m\u001b[1;32mAccardi Mario Alberto                \u001b[0m\u001b[1;32m \u001b[0m \u001b[1m \u001b[0m\u001b[1m2025-07-30 \u001b[0m\u001b[1m \u001b[0m \u001b[1m \u001b[0m\u001b[1;2m000\u001b[0m\u001b[1;37m1847903\u001b[0m\u001b[1m-\u001b[0m\u001b[1;94m25\u001b[0m\u001b[1m-\u001b[0m\u001b[1;2m000\u001b[0m\u001b[1;37m1…\u001b[0m\u001b[1m \u001b[0m  \u001b[1;38;5;245m│\u001b[0m\n",
       "\u001b[1;38;5;245m│\u001b[0m    4          \u001b[2m \u001b[0m\u001b[2m  1698991\u001b[0m\u001b[2m \u001b[0m \u001b[33m \u001b[0m\u001b[33mACEL  \u001b[0m\u001b[33m \u001b[0m \u001b[1;32m \u001b[0m\u001b[1;32mAccel Entertainment, Inc.            \u001b[0m\u001b[1;32m \u001b[0m  2025-07-30    \u001b[2m000\u001b[0m\u001b[1;37m1628280\u001b[0m-\u001b[94m25\u001b[0m-\u001b[2m0\u001b[0m\u001b[1;37m367…\u001b[0m   \u001b[1;38;5;245m│\u001b[0m\n",
       "\u001b[1;38;5;245m│\u001b[0m   \u001b[1m \u001b[0m\u001b[1m4        \u001b[0m\u001b[1m \u001b[0m \u001b[1;2m \u001b[0m\u001b[1;2m  1747055\u001b[0m\u001b[1;2m \u001b[0m \u001b[1;33m \u001b[0m\u001b[1;33m      \u001b[0m\u001b[1;33m \u001b[0m \u001b[1;32m \u001b[0m\u001b[1;32mAdair Jason                          \u001b[0m\u001b[1;32m \u001b[0m \u001b[1m \u001b[0m\u001b[1m2025-07-30 \u001b[0m\u001b[1m \u001b[0m \u001b[1m \u001b[0m\u001b[1;2m000\u001b[0m\u001b[1;37m1104659\u001b[0m\u001b[1m-\u001b[0m\u001b[1;94m25\u001b[0m\u001b[1m-\u001b[0m\u001b[1;2m0\u001b[0m\u001b[1;37m721…\u001b[0m\u001b[1m \u001b[0m  \u001b[1;38;5;245m│\u001b[0m\n",
       "\u001b[1;38;5;245m│\u001b[0m    4          \u001b[2m \u001b[0m\u001b[2m  1636994\u001b[0m\u001b[2m \u001b[0m \u001b[33m \u001b[0m\u001b[33m      \u001b[0m\u001b[33m \u001b[0m \u001b[1;32m \u001b[0m\u001b[1;32mAdams Brian                          \u001b[0m\u001b[1;32m \u001b[0m  2025-07-30    \u001b[2m0000\u001b[0m\u001b[1;37m950170\u001b[0m-\u001b[94m25\u001b[0m-\u001b[1;37m1003…\u001b[0m   \u001b[1;38;5;245m│\u001b[0m\n",
       "\u001b[1;38;5;245m│\u001b[0m   \u001b[1m \u001b[0m\u001b[1m4        \u001b[0m\u001b[1m \u001b[0m \u001b[1;2m \u001b[0m\u001b[1;2m  1832670\u001b[0m\u001b[1;2m \u001b[0m \u001b[1;33m \u001b[0m\u001b[1;33m      \u001b[0m\u001b[1;33m \u001b[0m \u001b[1;32m \u001b[0m\u001b[1;32mAdams Michael Brian                  \u001b[0m\u001b[1;32m \u001b[0m \u001b[1m \u001b[0m\u001b[1m2025-07-30 \u001b[0m\u001b[1m \u001b[0m \u001b[1m \u001b[0m\u001b[1;2m000\u001b[0m\u001b[1;37m1832670\u001b[0m\u001b[1m-\u001b[0m\u001b[1;94m25\u001b[0m\u001b[1m-\u001b[0m\u001b[1;2m0000…\u001b[0m\u001b[1m \u001b[0m  \u001b[1;38;5;245m│\u001b[0m\n",
       "\u001b[1;38;5;245m│\u001b[0m    4          \u001b[2m \u001b[0m\u001b[2m  1621227\u001b[0m\u001b[2m \u001b[0m \u001b[33m \u001b[0m\u001b[33mADAP  \u001b[0m\u001b[33m \u001b[0m \u001b[1;32m \u001b[0m\u001b[1;32mAdaptimmune Therapeutics PLC         \u001b[0m\u001b[1;32m \u001b[0m  2025-07-30    \u001b[2m0000\u001b[0m\u001b[1;37m935836\u001b[0m-\u001b[94m25\u001b[0m-\u001b[2m000\u001b[0m\u001b[1;37m4…\u001b[0m   \u001b[1;38;5;245m│\u001b[0m\n",
       "\u001b[1;38;5;245m│\u001b[0m   \u001b[1m \u001b[0m\u001b[1m4        \u001b[0m\u001b[1m \u001b[0m \u001b[1;2m \u001b[0m\u001b[1;2m  1823406\u001b[0m\u001b[1;2m \u001b[0m \u001b[1;33m \u001b[0m\u001b[1;33mAFBI  \u001b[0m\u001b[1;33m \u001b[0m \u001b[1;32m \u001b[0m\u001b[1;32mAffinity Bancshares, Inc.            \u001b[0m\u001b[1;32m \u001b[0m \u001b[1m \u001b[0m\u001b[1m2025-07-30 \u001b[0m\u001b[1m \u001b[0m \u001b[1m \u001b[0m\u001b[1;2m000\u001b[0m\u001b[1;37m1437749\u001b[0m\u001b[1m-\u001b[0m\u001b[1;94m25\u001b[0m\u001b[1m-\u001b[0m\u001b[1;2m0\u001b[0m\u001b[1;37m238…\u001b[0m\u001b[1m \u001b[0m  \u001b[1;38;5;245m│\u001b[0m\n",
       "\u001b[1;38;5;245m│\u001b[0m    4          \u001b[2m \u001b[0m\u001b[2m  1551965\u001b[0m\u001b[2m \u001b[0m \u001b[33m \u001b[0m\u001b[33m      \u001b[0m\u001b[33m \u001b[0m \u001b[1;32m \u001b[0m\u001b[1;32mAggarwal Gaurav                      \u001b[0m\u001b[1;32m \u001b[0m  2025-07-30    \u001b[2m000\u001b[0m\u001b[1;37m1213900\u001b[0m-\u001b[94m25\u001b[0m-\u001b[2m0\u001b[0m\u001b[1;37m693…\u001b[0m   \u001b[1;38;5;245m│\u001b[0m\n",
       "\u001b[1;38;5;245m│\u001b[0m   \u001b[1m \u001b[0m\u001b[1m4        \u001b[0m\u001b[1m \u001b[0m \u001b[1;2m \u001b[0m\u001b[1;2m  1877636\u001b[0m\u001b[1;2m \u001b[0m \u001b[1;33m \u001b[0m\u001b[1;33m      \u001b[0m\u001b[1;33m \u001b[0m \u001b[1;32m \u001b[0m\u001b[1;32mAllison Eric                         \u001b[0m\u001b[1;32m \u001b[0m \u001b[1m \u001b[0m\u001b[1m2025-07-30 \u001b[0m\u001b[1m \u001b[0m \u001b[1m \u001b[0m\u001b[1;2m000\u001b[0m\u001b[1;37m1819848\u001b[0m\u001b[1m-\u001b[0m\u001b[1;94m25\u001b[0m\u001b[1m-\u001b[0m\u001b[1;2m000\u001b[0m\u001b[1;37m4…\u001b[0m\u001b[1m \u001b[0m  \u001b[1;38;5;245m│\u001b[0m\n",
       "\u001b[1;38;5;245m│\u001b[0m    4          \u001b[2m \u001b[0m\u001b[2m  1933072\u001b[0m\u001b[2m \u001b[0m \u001b[33m \u001b[0m\u001b[33m      \u001b[0m\u001b[33m \u001b[0m \u001b[1;32m \u001b[0m\u001b[1;32mAmster Joshua Daniel                 \u001b[0m\u001b[1;32m \u001b[0m  2025-07-30    \u001b[2m000\u001b[0m\u001b[1;37m1104659\u001b[0m-\u001b[94m25\u001b[0m-\u001b[2m0\u001b[0m\u001b[1;37m721…\u001b[0m   \u001b[1;38;5;245m│\u001b[0m\n",
       "\u001b[1;38;5;245m│\u001b[0m   \u001b[1m \u001b[0m\u001b[1m4        \u001b[0m\u001b[1m \u001b[0m \u001b[1;2m \u001b[0m\u001b[1;2m  1558306\u001b[0m\u001b[1;2m \u001b[0m \u001b[1;33m \u001b[0m\u001b[1;33m      \u001b[0m\u001b[1;33m \u001b[0m \u001b[1;32m \u001b[0m\u001b[1;32mAnderson Sheila Mae                  \u001b[0m\u001b[1;32m \u001b[0m \u001b[1m \u001b[0m\u001b[1m2025-07-30 \u001b[0m\u001b[1m \u001b[0m \u001b[1m \u001b[0m\u001b[1;2m0000\u001b[0m\u001b[1;37m915779\u001b[0m\u001b[1m-\u001b[0m\u001b[1;94m25\u001b[0m\u001b[1m-\u001b[0m\u001b[1;2m000\u001b[0m\u001b[1;37m1…\u001b[0m\u001b[1m \u001b[0m  \u001b[1;38;5;245m│\u001b[0m\n",
       "\u001b[1;38;5;245m│\u001b[0m    4          \u001b[2m \u001b[0m\u001b[2m  1413410\u001b[0m\u001b[2m \u001b[0m \u001b[33m \u001b[0m\u001b[33m      \u001b[0m\u001b[33m \u001b[0m \u001b[1;32m \u001b[0m\u001b[1;32mApollo Management GP, LLC            \u001b[0m\u001b[1;32m \u001b[0m  2025-07-30    \u001b[2m000\u001b[0m\u001b[1;37m1104659\u001b[0m-\u001b[94m25\u001b[0m-\u001b[2m0\u001b[0m\u001b[1;37m723…\u001b[0m   \u001b[1;38;5;245m│\u001b[0m\n",
       "\u001b[1;38;5;245m│\u001b[0m   \u001b[1m \u001b[0m\u001b[1m4        \u001b[0m\u001b[1m \u001b[0m \u001b[1;2m \u001b[0m\u001b[1;2m  1449433\u001b[0m\u001b[1;2m \u001b[0m \u001b[1;33m \u001b[0m\u001b[1;33m      \u001b[0m\u001b[1;33m \u001b[0m \u001b[1;32m \u001b[0m\u001b[1;32mApollo Management Holdings GP, LLC   \u001b[0m\u001b[1;32m \u001b[0m \u001b[1m \u001b[0m\u001b[1m2025-07-30 \u001b[0m\u001b[1m \u001b[0m \u001b[1m \u001b[0m\u001b[1;2m000\u001b[0m\u001b[1;37m1104659\u001b[0m\u001b[1m-\u001b[0m\u001b[1;94m25\u001b[0m\u001b[1m-\u001b[0m\u001b[1;2m0\u001b[0m\u001b[1;37m723…\u001b[0m\u001b[1m \u001b[0m  \u001b[1;38;5;245m│\u001b[0m\n",
       "\u001b[1;38;5;245m│\u001b[0m    4          \u001b[2m \u001b[0m\u001b[2m  1449433\u001b[0m\u001b[2m \u001b[0m \u001b[33m \u001b[0m\u001b[33m      \u001b[0m\u001b[33m \u001b[0m \u001b[1;32m \u001b[0m\u001b[1;32mApollo Management Holdings GP, LLC   \u001b[0m\u001b[1;32m \u001b[0m  2025-07-30    \u001b[2m000\u001b[0m\u001b[1;37m1104659\u001b[0m-\u001b[94m25\u001b[0m-\u001b[2m0\u001b[0m\u001b[1;37m723…\u001b[0m   \u001b[1;38;5;245m│\u001b[0m\n",
       "\u001b[1;38;5;245m│\u001b[0m   \u001b[1m \u001b[0m\u001b[1m4        \u001b[0m\u001b[1m \u001b[0m \u001b[1;2m \u001b[0m\u001b[1;2m  1449434\u001b[0m\u001b[1;2m \u001b[0m \u001b[1;33m \u001b[0m\u001b[1;33m      \u001b[0m\u001b[1;33m \u001b[0m \u001b[1;32m \u001b[0m\u001b[1;32mApollo Management Holdings, L.P.     \u001b[0m\u001b[1;32m \u001b[0m \u001b[1m \u001b[0m\u001b[1m2025-07-30 \u001b[0m\u001b[1m \u001b[0m \u001b[1m \u001b[0m\u001b[1;2m000\u001b[0m\u001b[1;37m1104659\u001b[0m\u001b[1m-\u001b[0m\u001b[1;94m25\u001b[0m\u001b[1m-\u001b[0m\u001b[1;2m0\u001b[0m\u001b[1;37m723…\u001b[0m\u001b[1m \u001b[0m  \u001b[1;38;5;245m│\u001b[0m\n",
       "\u001b[1;38;5;245m│\u001b[0m    4          \u001b[2m \u001b[0m\u001b[2m  1398053\u001b[0m\u001b[2m \u001b[0m \u001b[33m \u001b[0m\u001b[33m      \u001b[0m\u001b[33m \u001b[0m \u001b[1;32m \u001b[0m\u001b[1;32mApollo Management, L.P.              \u001b[0m\u001b[1;32m \u001b[0m  2025-07-30    \u001b[2m000\u001b[0m\u001b[1;37m1104659\u001b[0m-\u001b[94m25\u001b[0m-\u001b[2m0\u001b[0m\u001b[1;37m723…\u001b[0m   \u001b[1;38;5;245m│\u001b[0m\n",
       "\u001b[1;38;5;245m│\u001b[0m   \u001b[1m \u001b[0m\u001b[1m4        \u001b[0m\u001b[1m \u001b[0m \u001b[1;2m \u001b[0m\u001b[1;2m  2011937\u001b[0m\u001b[1;2m \u001b[0m \u001b[1;33m \u001b[0m\u001b[1;33m      \u001b[0m\u001b[1;33m \u001b[0m \u001b[1;32m \u001b[0m\u001b[1;32mApollo Principal Holdings B GP, LLC  \u001b[0m\u001b[1;32m \u001b[0m \u001b[1m \u001b[0m\u001b[1m2025-07-30 \u001b[0m\u001b[1m \u001b[0m \u001b[1m \u001b[0m\u001b[1;2m000\u001b[0m\u001b[1;37m1104659\u001b[0m\u001b[1m-\u001b[0m\u001b[1;94m25\u001b[0m\u001b[1m-\u001b[0m\u001b[1;2m0\u001b[0m\u001b[1;37m723…\u001b[0m\u001b[1m \u001b[0m  \u001b[1;38;5;245m│\u001b[0m\n",
       "\u001b[1;38;5;245m│\u001b[0m    4          \u001b[2m \u001b[0m\u001b[2m  1968376\u001b[0m\u001b[2m \u001b[0m \u001b[33m \u001b[0m\u001b[33m      \u001b[0m\u001b[33m \u001b[0m \u001b[1;32m \u001b[0m\u001b[1;32mApollo Principal Holdings B, L.P.    \u001b[0m\u001b[1;32m \u001b[0m  2025-07-30    \u001b[2m000\u001b[0m\u001b[1;37m1104659\u001b[0m-\u001b[94m25\u001b[0m-\u001b[2m0\u001b[0m\u001b[1;37m723…\u001b[0m   \u001b[1;38;5;245m│\u001b[0m\n",
       "\u001b[1;38;5;245m│\u001b[0m   \u001b[1m \u001b[0m\u001b[1m4        \u001b[0m\u001b[1m \u001b[0m \u001b[1;2m \u001b[0m\u001b[1;2m  1596532\u001b[0m\u001b[1;2m \u001b[0m \u001b[1;33m \u001b[0m\u001b[1;33mANET  \u001b[0m\u001b[1;33m \u001b[0m \u001b[1;32m \u001b[0m\u001b[1;32mArista Networks, Inc.                \u001b[0m\u001b[1;32m \u001b[0m \u001b[1m \u001b[0m\u001b[1m2025-07-30 \u001b[0m\u001b[1m \u001b[0m \u001b[1m \u001b[0m\u001b[1;2m000\u001b[0m\u001b[1;37m1596532\u001b[0m\u001b[1m-\u001b[0m\u001b[1;94m25\u001b[0m\u001b[1m-\u001b[0m\u001b[1;2m000\u001b[0m\u001b[1;37m1…\u001b[0m\u001b[1m \u001b[0m  \u001b[1;38;5;245m│\u001b[0m\n",
       "\u001b[1;38;5;245m│\u001b[0m    4          \u001b[2m \u001b[0m\u001b[2m  1736946\u001b[0m\u001b[2m \u001b[0m \u001b[33m \u001b[0m\u001b[33mARLO  \u001b[0m\u001b[33m \u001b[0m \u001b[1;32m \u001b[0m\u001b[1;32mArlo Technologies, Inc.              \u001b[0m\u001b[1;32m \u001b[0m  2025-07-30    \u001b[2m000\u001b[0m\u001b[1;37m1415889\u001b[0m-\u001b[94m25\u001b[0m-\u001b[2m0\u001b[0m\u001b[1;37m205…\u001b[0m   \u001b[1;38;5;245m│\u001b[0m\n",
       "\u001b[1;38;5;245m│\u001b[0m   \u001b[1m \u001b[0m\u001b[1m4        \u001b[0m\u001b[1m \u001b[0m \u001b[1;2m \u001b[0m\u001b[1;2m  1477720\u001b[0m\u001b[1;2m \u001b[0m \u001b[1;33m \u001b[0m\u001b[1;33mASAN  \u001b[0m\u001b[1;33m \u001b[0m \u001b[1;32m \u001b[0m\u001b[1;32mAsana, Inc.                          \u001b[0m\u001b[1;32m \u001b[0m \u001b[1m \u001b[0m\u001b[1m2025-07-30 \u001b[0m\u001b[1m \u001b[0m \u001b[1m \u001b[0m\u001b[1;2m000\u001b[0m\u001b[1;37m1477720\u001b[0m\u001b[1m-\u001b[0m\u001b[1;94m25\u001b[0m\u001b[1m-\u001b[0m\u001b[1;2m000\u001b[0m\u001b[1;37m1…\u001b[0m\u001b[1m \u001b[0m  \u001b[1;38;5;245m│\u001b[0m\n",
       "\u001b[1;38;5;245m│\u001b[0m    4          \u001b[2m \u001b[0m\u001b[2m  1650372\u001b[0m\u001b[2m \u001b[0m \u001b[33m \u001b[0m\u001b[33mTEAM  \u001b[0m\u001b[33m \u001b[0m \u001b[1;32m \u001b[0m\u001b[1;32mAtlassian Corp                       \u001b[0m\u001b[1;32m \u001b[0m  2025-07-30    \u001b[2m000\u001b[0m\u001b[1;37m1562180\u001b[0m-\u001b[94m25\u001b[0m-\u001b[2m00\u001b[0m\u001b[1;37m55…\u001b[0m   \u001b[1;38;5;245m│\u001b[0m\n",
       "\u001b[1;38;5;245m│\u001b[0m   \u001b[1m \u001b[0m\u001b[1m4        \u001b[0m\u001b[1m \u001b[0m \u001b[1;2m \u001b[0m\u001b[1;2m  1650372\u001b[0m\u001b[1;2m \u001b[0m \u001b[1;33m \u001b[0m\u001b[1;33mTEAM  \u001b[0m\u001b[1;33m \u001b[0m \u001b[1;32m \u001b[0m\u001b[1;32mAtlassian Corp                       \u001b[0m\u001b[1;32m \u001b[0m \u001b[1m \u001b[0m\u001b[1m2025-07-30 \u001b[0m\u001b[1m \u001b[0m \u001b[1m \u001b[0m\u001b[1;2m000\u001b[0m\u001b[1;37m1562180\u001b[0m\u001b[1m-\u001b[0m\u001b[1;94m25\u001b[0m\u001b[1m-\u001b[0m\u001b[1;2m00\u001b[0m\u001b[1;37m55…\u001b[0m\u001b[1m \u001b[0m  \u001b[1;38;5;245m│\u001b[0m\n",
       "\u001b[1;38;5;245m│\u001b[0m    4          \u001b[2m \u001b[0m\u001b[2m  1221280\u001b[0m\u001b[2m \u001b[0m \u001b[33m \u001b[0m\u001b[33m      \u001b[0m\u001b[33m \u001b[0m \u001b[1;32m \u001b[0m\u001b[1;32mBARTEL RALPH                         \u001b[0m\u001b[1;32m \u001b[0m  2025-07-30    \u001b[2m000\u001b[0m\u001b[1;37m1628280\u001b[0m-\u001b[94m25\u001b[0m-\u001b[2m0\u001b[0m\u001b[1;37m366…\u001b[0m   \u001b[1;38;5;245m│\u001b[0m\n",
       "\u001b[1;38;5;245m│\u001b[0m   \u001b[1m \u001b[0m\u001b[1m4        \u001b[0m\u001b[1m \u001b[0m \u001b[1;2m \u001b[0m\u001b[1;2m  1208946\u001b[0m\u001b[1;2m \u001b[0m \u001b[1;33m \u001b[0m\u001b[1;33m      \u001b[0m\u001b[1;33m \u001b[0m \u001b[1;32m \u001b[0m\u001b[1;32mBENANTE MARTIN R                     \u001b[0m\u001b[1;32m \u001b[0m \u001b[1m \u001b[0m\u001b[1m2025-07-30 \u001b[0m\u001b[1m \u001b[0m \u001b[1m \u001b[0m\u001b[1;2m000\u001b[0m\u001b[1;37m1944013\u001b[0m\u001b[1m-\u001b[0m\u001b[1;94m25\u001b[0m\u001b[1m-\u001b[0m\u001b[1;2m0000\u001b[0m\u001b[1;37m…\u001b[0m\u001b[1m \u001b[0m  \u001b[1;38;5;245m│\u001b[0m\n",
       "\u001b[1;38;5;245m│\u001b[0m    4          \u001b[2m \u001b[0m\u001b[2m  1059213\u001b[0m\u001b[2m \u001b[0m \u001b[33m \u001b[0m\u001b[33mDNIF  \u001b[0m\u001b[33m \u001b[0m \u001b[1;32m \u001b[0m\u001b[1;32mBEXIL INVESTMENT TRUST               \u001b[0m\u001b[1;32m \u001b[0m  2025-07-30    \u001b[2m000\u001b[0m\u001b[1;37m1059213\u001b[0m-\u001b[94m25\u001b[0m-\u001b[2m0000\u001b[0m\u001b[1;37m…\u001b[0m   \u001b[1;38;5;245m│\u001b[0m\n",
       "\u001b[1;38;5;245m│\u001b[0m   \u001b[1m \u001b[0m\u001b[1m4        \u001b[0m\u001b[1m \u001b[0m \u001b[1;2m \u001b[0m\u001b[1;2m  1137391\u001b[0m\u001b[1;2m \u001b[0m \u001b[1;33m \u001b[0m\u001b[1;33mBFZ   \u001b[0m\u001b[1;33m \u001b[0m \u001b[1;32m \u001b[0m\u001b[1;32mBLACKROCK CALIFORNIA MUNICIPAL INCOM…\u001b[0m\u001b[1;32m \u001b[0m \u001b[1m \u001b[0m\u001b[1m2025-07-30 \u001b[0m\u001b[1m \u001b[0m \u001b[1m \u001b[0m\u001b[1;2m000\u001b[0m\u001b[1;37m1510281\u001b[0m\u001b[1m-\u001b[0m\u001b[1;94m25\u001b[0m\u001b[1m-\u001b[0m\u001b[1;2m000\u001b[0m\u001b[1;37m4…\u001b[0m\u001b[1m \u001b[0m  \u001b[1;38;5;245m│\u001b[0m\n",
       "\u001b[1;38;5;245m│\u001b[0m    4          \u001b[2m \u001b[0m\u001b[2m   793306\u001b[0m\u001b[2m \u001b[0m \u001b[33m \u001b[0m\u001b[33mBDCO  \u001b[0m\u001b[33m \u001b[0m \u001b[1;32m \u001b[0m\u001b[1;32mBLUE DOLPHIN ENERGY CO               \u001b[0m\u001b[1;32m \u001b[0m  2025-07-30    \u001b[2m000\u001b[0m\u001b[1;37m1437749\u001b[0m-\u001b[94m25\u001b[0m-\u001b[2m0\u001b[0m\u001b[1;37m239…\u001b[0m   \u001b[1;38;5;245m│\u001b[0m\n",
       "\u001b[1;38;5;245m│\u001b[0m   \u001b[1m \u001b[0m\u001b[1m4        \u001b[0m\u001b[1m \u001b[0m \u001b[1;2m \u001b[0m\u001b[1;2m  1675457\u001b[0m\u001b[1;2m \u001b[0m \u001b[1;33m \u001b[0m\u001b[1;33m      \u001b[0m\u001b[1;33m \u001b[0m \u001b[1;32m \u001b[0m\u001b[1;32mBOLIN TOM W                          \u001b[0m\u001b[1;32m \u001b[0m \u001b[1m \u001b[0m\u001b[1m2025-07-30 \u001b[0m\u001b[1m \u001b[0m \u001b[1m \u001b[0m\u001b[1;2m000\u001b[0m\u001b[1;37m1415889\u001b[0m\u001b[1m-\u001b[0m\u001b[1;94m25\u001b[0m\u001b[1m-\u001b[0m\u001b[1;2m0\u001b[0m\u001b[1;37m205…\u001b[0m\u001b[1m \u001b[0m  \u001b[1;38;5;245m│\u001b[0m\n",
       "\u001b[1;38;5;245m│\u001b[0m    4          \u001b[2m \u001b[0m\u001b[2m   885725\u001b[0m\u001b[2m \u001b[0m \u001b[33m \u001b[0m\u001b[33mBSX   \u001b[0m\u001b[33m \u001b[0m \u001b[1;32m \u001b[0m\u001b[1;32mBOSTON SCIENTIFIC CORP               \u001b[0m\u001b[1;32m \u001b[0m  2025-07-30    \u001b[2m000\u001b[0m\u001b[1;37m1225208\u001b[0m-\u001b[94m25\u001b[0m-\u001b[2m00\u001b[0m\u001b[1;37m68…\u001b[0m   \u001b[1;38;5;245m│\u001b[0m\n",
       "\u001b[1;38;5;245m│\u001b[0m   \u001b[1m \u001b[0m\u001b[1m4        \u001b[0m\u001b[1m \u001b[0m \u001b[1;2m \u001b[0m\u001b[1;2m  2045597\u001b[0m\u001b[1;2m \u001b[0m \u001b[1;33m \u001b[0m\u001b[1;33m      \u001b[0m\u001b[1;33m \u001b[0m \u001b[1;32m \u001b[0m\u001b[1;32mBROWN MICHAEL JOHN                   \u001b[0m\u001b[1;32m \u001b[0m \u001b[1m \u001b[0m\u001b[1m2025-07-30 \u001b[0m\u001b[1m \u001b[0m \u001b[1m \u001b[0m\u001b[1;2m0000\u001b[0m\u001b[1;37m912282\u001b[0m\u001b[1m-\u001b[0m\u001b[1;94m25\u001b[0m\u001b[1m-\u001b[0m\u001b[1;2m000\u001b[0m\u001b[1;37m8…\u001b[0m\u001b[1m \u001b[0m  \u001b[1;38;5;245m│\u001b[0m\n",
       "\u001b[1;38;5;245m│\u001b[0m    4          \u001b[2m \u001b[0m\u001b[2m  1232730\u001b[0m\u001b[2m \u001b[0m \u001b[33m \u001b[0m\u001b[33m      \u001b[0m\u001b[33m \u001b[0m \u001b[1;32m \u001b[0m\u001b[1;32mBUNGER STEVEN G                      \u001b[0m\u001b[1;32m \u001b[0m  2025-07-30    \u001b[2m0000\u001b[0m\u001b[1;37m278166\u001b[0m-\u001b[94m25\u001b[0m-\u001b[2m000\u001b[0m\u001b[1;37m1…\u001b[0m   \u001b[1;38;5;245m│\u001b[0m\n",
       "\u001b[1;38;5;245m│\u001b[0m   \u001b[1m \u001b[0m\u001b[1m4        \u001b[0m\u001b[1m \u001b[0m \u001b[1;2m \u001b[0m\u001b[1;2m  1103780\u001b[0m\u001b[1;2m \u001b[0m \u001b[1;33m \u001b[0m\u001b[1;33m      \u001b[0m\u001b[1;33m \u001b[0m \u001b[1;32m \u001b[0m\u001b[1;32mBUNKA CHRISTOPHER                    \u001b[0m\u001b[1;32m \u001b[0m \u001b[1m \u001b[0m\u001b[1m2025-07-30 \u001b[0m\u001b[1m \u001b[0m \u001b[1m \u001b[0m\u001b[1;2m000\u001b[0m\u001b[1;37m1348362\u001b[0m\u001b[1m-\u001b[0m\u001b[1;94m25\u001b[0m\u001b[1m-\u001b[0m\u001b[1;2m0000\u001b[0m\u001b[1;37m…\u001b[0m\u001b[1m \u001b[0m  \u001b[1;38;5;245m│\u001b[0m\n",
       "\u001b[1;38;5;245m│\u001b[0m    4          \u001b[2m \u001b[0m\u001b[2m  1630805\u001b[0m\u001b[2m \u001b[0m \u001b[33m \u001b[0m\u001b[33mBW    \u001b[0m\u001b[33m \u001b[0m \u001b[1;32m \u001b[0m\u001b[1;32mBabcock & Wilcox Enterprises, Inc.   \u001b[0m\u001b[1;32m \u001b[0m  2025-07-30    \u001b[2m000\u001b[0m\u001b[1;37m1127602\u001b[0m-\u001b[94m25\u001b[0m-\u001b[2m0\u001b[0m\u001b[1;37m197…\u001b[0m   \u001b[1;38;5;245m│\u001b[0m\n",
       "\u001b[1;38;5;245m│\u001b[0m   \u001b[1m \u001b[0m\u001b[1m4        \u001b[0m\u001b[1m \u001b[0m \u001b[1;2m \u001b[0m\u001b[1;2m  1630805\u001b[0m\u001b[1;2m \u001b[0m \u001b[1;33m \u001b[0m\u001b[1;33mBW    \u001b[0m\u001b[1;33m \u001b[0m \u001b[1;32m \u001b[0m\u001b[1;32mBabcock & Wilcox Enterprises, Inc.   \u001b[0m\u001b[1;32m \u001b[0m \u001b[1m \u001b[0m\u001b[1m2025-07-30 \u001b[0m\u001b[1m \u001b[0m \u001b[1m \u001b[0m\u001b[1;2m000\u001b[0m\u001b[1;37m1630805\u001b[0m\u001b[1m-\u001b[0m\u001b[1;94m25\u001b[0m\u001b[1m-\u001b[0m\u001b[1;2m0000\u001b[0m\u001b[1;37m…\u001b[0m\u001b[1m \u001b[0m  \u001b[1;38;5;245m│\u001b[0m\n",
       "\u001b[1;38;5;245m│\u001b[0m    4          \u001b[2m \u001b[0m\u001b[2m  1630805\u001b[0m\u001b[2m \u001b[0m \u001b[33m \u001b[0m\u001b[33mBW    \u001b[0m\u001b[33m \u001b[0m \u001b[1;32m \u001b[0m\u001b[1;32mBabcock & Wilcox Enterprises, Inc.   \u001b[0m\u001b[1;32m \u001b[0m  2025-07-30    \u001b[2m000\u001b[0m\u001b[1;37m1630805\u001b[0m-\u001b[94m25\u001b[0m-\u001b[2m0000\u001b[0m\u001b[1;37m…\u001b[0m   \u001b[1;38;5;245m│\u001b[0m\n",
       "\u001b[1;38;5;245m│\u001b[0m   \u001b[1m \u001b[0m\u001b[1m4        \u001b[0m\u001b[1m \u001b[0m \u001b[1;2m \u001b[0m\u001b[1;2m  1630805\u001b[0m\u001b[1;2m \u001b[0m \u001b[1;33m \u001b[0m\u001b[1;33mBW    \u001b[0m\u001b[1;33m \u001b[0m \u001b[1;32m \u001b[0m\u001b[1;32mBabcock & Wilcox Enterprises, Inc.   \u001b[0m\u001b[1;32m \u001b[0m \u001b[1m \u001b[0m\u001b[1m2025-07-30 \u001b[0m\u001b[1m \u001b[0m \u001b[1m \u001b[0m\u001b[1;2m000\u001b[0m\u001b[1;37m1630805\u001b[0m\u001b[1m-\u001b[0m\u001b[1;94m25\u001b[0m\u001b[1m-\u001b[0m\u001b[1;2m0000\u001b[0m\u001b[1;37m…\u001b[0m\u001b[1m \u001b[0m  \u001b[1;38;5;245m│\u001b[0m\n",
       "\u001b[1;38;5;245m│\u001b[0m                                                                                                                 \u001b[1;38;5;245m│\u001b[0m\n",
       "\u001b[1;38;5;245m│\u001b[0m                                                                                                                 \u001b[1;38;5;245m│\u001b[0m\n",
       "\u001b[1;38;5;245m│\u001b[0m                                                                                                                 \u001b[1;38;5;245m│\u001b[0m\n",
       "\u001b[1;38;5;245m│\u001b[0m \u001b[2mShowing \u001b[0m\u001b[1;31m1\u001b[0m\u001b[2m to \u001b[0m\u001b[1;31m50\u001b[0m\u001b[2m of \u001b[0m\u001b[1m236,545\u001b[0m\u001b[2m filings.\u001b[0m\u001b[2m Page using \u001b[0m\u001b[1;38;5;245m← prev()\u001b[0m\u001b[2m and \u001b[0m\u001b[1;38;5;245mnext() →\u001b[0m                                            \u001b[1;38;5;245m│\u001b[0m\n",
       "\u001b[1;38;5;245m╰─\u001b[0m\u001b[1;38;5;245m────────────────────────────────\u001b[0m\u001b[1;38;5;245m SEC Filings between 2025-01-02 and 2025-07-30 \u001b[0m\u001b[1;38;5;245m────────────────────────────────\u001b[0m\u001b[1;38;5;245m─╯\u001b[0m"
      ]
     },
     "execution_count": 32,
     "metadata": {},
     "output_type": "execute_result"
    }
   ],
   "source": [
    "insider_filings"
   ]
  },
  {
   "cell_type": "code",
   "execution_count": 8,
   "id": "1c6b47ce",
   "metadata": {},
   "outputs": [
    {
     "name": "stdout",
     "output_type": "stream",
     "text": [
      "{'id': 'us', 'name': 'U.S. markets', 'status': 'closed', 'yfit_market_id': 'us_market', 'close': datetime.datetime(2025, 7, 31, 20, 0, tzinfo=datetime.timezone.utc), 'duration': [{'hrs': '0', 'mins': '45'}], 'message': 'U.S. markets open in 45 minutes', 'open': datetime.datetime(2025, 7, 31, 13, 30, tzinfo=datetime.timezone.utc), 'yfit_market_status': 'YFT_MARKET_WILL_OPEN', 'timezone': {'dst': 'true', 'gmtoffset': '-14400', 'short': 'EDT', '$text': 'America/New_York'}, 'tz': datetime.timezone(datetime.timedelta(days=-1, seconds=34560), 'EDT')}\n",
      "{'CME': {'language': 'en-US', 'region': 'US', 'quoteType': 'FUTURE', 'typeDisp': 'Futures', 'quoteSourceName': 'Delayed Quote', 'triggerable': False, 'customPriceAlertConfidence': 'NONE', 'contractSymbol': False, 'headSymbolAsString': 'RTY=F', 'shortName': 'Russell 2000 Futures', 'hasPrePostMarketData': False, 'firstTradeDateMilliseconds': 1499659200000, 'regularMarketChange': -10.600098, 'regularMarketChangePercent': -0.47290197, 'regularMarketTime': 1753965309, 'regularMarketPrice': 2230.9, 'regularMarketPreviousClose': 2241.5, 'exchange': 'CME', 'market': 'us24_market', 'fullExchangeName': 'CME', 'marketState': 'REGULAR', 'sourceInterval': 10, 'exchangeDataDelayedBy': 10, 'exchangeTimezoneName': 'America/New_York', 'exchangeTimezoneShortName': 'EDT', 'gmtOffSetMilliseconds': -14400000, 'esgPopulated': False, 'tradeable': False, 'cryptoTradeable': False, 'symbol': 'RTY=F'}, 'CBT': {'language': 'en-US', 'region': 'US', 'quoteType': 'FUTURE', 'typeDisp': 'Futures', 'quoteSourceName': 'Delayed Quote', 'triggerable': False, 'customPriceAlertConfidence': 'NONE', 'contractSymbol': False, 'headSymbolAsString': 'YM=F', 'shortName': 'Dow Futures', 'hasPrePostMarketData': False, 'firstTradeDateMilliseconds': 1017982800000, 'regularMarketChange': 90.0, 'regularMarketChangePercent': 0.20165807, 'regularMarketTime': 1753965303, 'regularMarketPrice': 44723.0, 'regularMarketPreviousClose': 44633.0, 'exchange': 'CBT', 'market': 'us24_market', 'fullExchangeName': 'CBOT', 'marketState': 'REGULAR', 'sourceInterval': 10, 'exchangeDataDelayedBy': 10, 'exchangeTimezoneName': 'America/New_York', 'exchangeTimezoneShortName': 'EDT', 'gmtOffSetMilliseconds': -14400000, 'esgPopulated': False, 'tradeable': False, 'cryptoTradeable': False, 'symbol': 'YM=F'}, 'CXI': {'language': 'en-US', 'region': 'US', 'quoteType': 'INDEX', 'typeDisp': 'Index', 'triggerable': False, 'customPriceAlertConfidence': 'LOW', 'shortName': 'VIX', 'hasPrePostMarketData': False, 'firstTradeDateMilliseconds': 631267200000, 'priceHint': 2, 'regularMarketChange': -0.32999992, 'regularMarketChangePercent': -2.1345403, 'regularMarketTime': 1753965001, 'regularMarketPrice': 15.15, 'regularMarketPreviousClose': 15.48, 'exchange': 'CXI', 'market': 'cboe_market', 'fullExchangeName': 'Cboe Indices', 'marketState': 'REGULAR', 'sourceInterval': 15, 'exchangeDataDelayedBy': 0, 'exchangeTimezoneName': 'America/Chicago', 'exchangeTimezoneShortName': 'CDT', 'gmtOffSetMilliseconds': -18000000, 'esgPopulated': False, 'tradeable': False, 'cryptoTradeable': False, 'symbol': '^VIX'}, 'CMX': {'language': 'en-US', 'region': 'US', 'quoteType': 'FUTURE', 'typeDisp': 'Futures', 'quoteSourceName': 'Delayed Quote', 'triggerable': False, 'customPriceAlertConfidence': 'NONE', 'contractSymbol': False, 'headSymbolAsString': 'GC=F', 'shortName': 'Gold', 'hasPrePostMarketData': False, 'firstTradeDateMilliseconds': 967608000000, 'regularMarketChange': 10.0, 'regularMarketChangePercent': 0.29825816, 'regularMarketTime': 1753965312, 'regularMarketPrice': 3362.8, 'regularMarketPreviousClose': 3352.8, 'exchange': 'CMX', 'market': 'us24_market', 'fullExchangeName': 'COMEX', 'marketState': 'REGULAR', 'sourceInterval': 15, 'exchangeDataDelayedBy': 10, 'exchangeTimezoneName': 'America/New_York', 'exchangeTimezoneShortName': 'EDT', 'gmtOffSetMilliseconds': -14400000, 'esgPopulated': False, 'tradeable': False, 'cryptoTradeable': False, 'symbol': 'GC=F'}}\n"
     ]
    }
   ],
   "source": [
    "US = yf.Market(\"US\")\n",
    "\n",
    "us_status = US.status\n",
    "us_summary = US.summary\n",
    "\n",
    "print(us_status)\n",
    "print(us_summary)\n",
    "\n"
   ]
  },
  {
   "cell_type": "code",
   "execution_count": 10,
   "id": "70fb3592",
   "metadata": {},
   "outputs": [
    {
     "data": {
      "text/plain": [
       "{'id': 'us',\n",
       " 'name': 'U.S. markets',\n",
       " 'status': 'closed',\n",
       " 'yfit_market_id': 'us_market',\n",
       " 'close': datetime.datetime(2025, 7, 31, 20, 0, tzinfo=datetime.timezone.utc),\n",
       " 'duration': [{'hrs': '0', 'mins': '45'}],\n",
       " 'message': 'U.S. markets open in 45 minutes',\n",
       " 'open': datetime.datetime(2025, 7, 31, 13, 30, tzinfo=datetime.timezone.utc),\n",
       " 'yfit_market_status': 'YFT_MARKET_WILL_OPEN',\n",
       " 'timezone': {'dst': 'true',\n",
       "  'gmtoffset': '-14400',\n",
       "  'short': 'EDT',\n",
       "  '$text': 'America/New_York'},\n",
       " 'tz': datetime.timezone(datetime.timedelta(days=-1, seconds=34560), 'EDT')}"
      ]
     },
     "execution_count": 10,
     "metadata": {},
     "output_type": "execute_result"
    }
   ],
   "source": [
    "us_status"
   ]
  },
  {
   "cell_type": "code",
   "execution_count": 36,
   "id": "16eb75fb",
   "metadata": {},
   "outputs": [],
   "source": [
    "c = Company(\"AAPL\")  # Apple Inc."
   ]
  },
  {
   "cell_type": "code",
   "execution_count": 37,
   "id": "8ccb32f5",
   "metadata": {},
   "outputs": [
    {
     "data": {
      "text/html": [
       "<pre style=\"white-space:pre;overflow-x:auto;line-height:normal;font-family:Menlo,'DejaVu Sans Mono',consolas,'Courier New',monospace\"></pre>\n"
      ],
      "text/plain": []
     },
     "metadata": {},
     "output_type": "display_data"
    },
    {
     "data": {
      "text/plain": [
       "\u001b[38;5;244m╭─\u001b[0m\u001b[38;5;244m─────────────────────────────────────────────\u001b[0m\u001b[38;5;244m 🏢 \u001b[0m\u001b[1;32mApple Inc.\u001b[0m\u001b[38;5;244m \u001b[0m\u001b[1;33mAAPL\u001b[0m\u001b[38;5;244m \u001b[0m\u001b[38;5;244m──────────────────────────────────────────────\u001b[0m\u001b[38;5;244m─╮\u001b[0m\n",
       "\u001b[38;5;244m│\u001b[0m                                                                                                                 \u001b[38;5;244m│\u001b[0m\n",
       "\u001b[38;5;244m│\u001b[0m                                                                                                                 \u001b[38;5;244m│\u001b[0m\n",
       "\u001b[38;5;244m│\u001b[0m \u001b[38;5;244m╭─\u001b[0m\u001b[38;5;244m────────────────────────────────────────────────\u001b[0m\u001b[38;5;244m 📋 Entity \u001b[0m\u001b[38;5;244m────────────────────────────────────────────────\u001b[0m\u001b[38;5;244m─╮\u001b[0m \u001b[38;5;244m│\u001b[0m\n",
       "\u001b[38;5;244m│\u001b[0m \u001b[38;5;244m│\u001b[0m                                                                                                             \u001b[38;5;244m│\u001b[0m \u001b[38;5;244m│\u001b[0m\n",
       "\u001b[38;5;244m│\u001b[0m \u001b[38;5;244m│\u001b[0m   CIK   \u001b[1;38;5;32m320193\u001b[0m   Type   \u001b[1;33mOperating\u001b[0m   \u001b[1;33m○\u001b[0m                                                                       \u001b[38;5;244m│\u001b[0m \u001b[38;5;244m│\u001b[0m\n",
       "\u001b[38;5;244m│\u001b[0m \u001b[38;5;244m│\u001b[0m                                                                                                             \u001b[38;5;244m│\u001b[0m \u001b[38;5;244m│\u001b[0m\n",
       "\u001b[38;5;244m│\u001b[0m \u001b[38;5;244m│\u001b[0m                                                                                                             \u001b[38;5;244m│\u001b[0m \u001b[38;5;244m│\u001b[0m\n",
       "\u001b[38;5;244m│\u001b[0m \u001b[38;5;244m│\u001b[0m  \u001b[1m \u001b[0m\u001b[1mCategory               \u001b[0m\u001b[1m \u001b[0m \u001b[1m \u001b[0m\u001b[1mIndustry                  \u001b[0m\u001b[1m \u001b[0m \u001b[1m \u001b[0m\u001b[1mFiscal Year End\u001b[0m\u001b[1m \u001b[0m                                   \u001b[38;5;244m│\u001b[0m \u001b[38;5;244m│\u001b[0m\n",
       "\u001b[38;5;244m│\u001b[0m \u001b[38;5;244m│\u001b[0m  ────────────────────────────────────────────────────────────────────────                                   \u001b[38;5;244m│\u001b[0m \u001b[38;5;244m│\u001b[0m\n",
       "\u001b[38;5;244m│\u001b[0m \u001b[38;5;244m│\u001b[0m   Large accelerated filer   3571: Electronic Computers   Sep 27                                             \u001b[38;5;244m│\u001b[0m \u001b[38;5;244m│\u001b[0m\n",
       "\u001b[38;5;244m│\u001b[0m \u001b[38;5;244m│\u001b[0m                                                                                                             \u001b[38;5;244m│\u001b[0m \u001b[38;5;244m│\u001b[0m\n",
       "\u001b[38;5;244m│\u001b[0m \u001b[38;5;244m╰─────────────────────────────────────────────────────────────────────────────────────────────────────────────╯\u001b[0m \u001b[38;5;244m│\u001b[0m\n",
       "\u001b[38;5;244m│\u001b[0m \u001b[38;5;244m╭─\u001b[0m\u001b[38;5;244m──────────────────────────────────────────────\u001b[0m\u001b[38;5;244m 📈 Exchanges \u001b[0m\u001b[38;5;244m───────────────────────────────────────────────\u001b[0m\u001b[38;5;244m─╮\u001b[0m \u001b[38;5;244m│\u001b[0m\n",
       "\u001b[38;5;244m│\u001b[0m \u001b[38;5;244m│\u001b[0m                                                                                                             \u001b[38;5;244m│\u001b[0m \u001b[38;5;244m│\u001b[0m\n",
       "\u001b[38;5;244m│\u001b[0m \u001b[38;5;244m│\u001b[0m  \u001b[1m \u001b[0m\u001b[1mExchange\u001b[0m\u001b[1m \u001b[0m \u001b[1m \u001b[0m\u001b[1mSymbol\u001b[0m\u001b[1m \u001b[0m                                                                                        \u001b[38;5;244m│\u001b[0m \u001b[38;5;244m│\u001b[0m\n",
       "\u001b[38;5;244m│\u001b[0m \u001b[38;5;244m│\u001b[0m  ───────────────────                                                                                        \u001b[38;5;244m│\u001b[0m \u001b[38;5;244m│\u001b[0m\n",
       "\u001b[38;5;244m│\u001b[0m \u001b[38;5;244m│\u001b[0m   Nasdaq    \u001b[1;33m \u001b[0m\u001b[1;33mAAPL  \u001b[0m\u001b[1;33m \u001b[0m                                                                                        \u001b[38;5;244m│\u001b[0m \u001b[38;5;244m│\u001b[0m\n",
       "\u001b[38;5;244m│\u001b[0m \u001b[38;5;244m│\u001b[0m                                                                                                             \u001b[38;5;244m│\u001b[0m \u001b[38;5;244m│\u001b[0m\n",
       "\u001b[38;5;244m│\u001b[0m \u001b[38;5;244m╰─────────────────────────────────────────────────────────────────────────────────────────────────────────────╯\u001b[0m \u001b[38;5;244m│\u001b[0m\n",
       "\u001b[38;5;244m│\u001b[0m \u001b[38;5;244m╭─\u001b[0m\u001b[38;5;244m──\u001b[0m\u001b[38;5;244m 🏢 Business Address \u001b[0m\u001b[38;5;244m───\u001b[0m\u001b[38;5;244m─╮\u001b[0m      \u001b[38;5;244m╭─\u001b[0m\u001b[38;5;244m───\u001b[0m\u001b[38;5;244m 📫 Mailing Address \u001b[0m\u001b[38;5;244m───\u001b[0m\u001b[38;5;244m─╮\u001b[0m     \u001b[38;5;244m╭─\u001b[0m\u001b[38;5;244m─\u001b[0m\u001b[38;5;244m 📞 Contact Information \u001b[0m\u001b[38;5;244m─\u001b[0m\u001b[38;5;244m─╮\u001b[0m           \u001b[38;5;244m│\u001b[0m\n",
       "\u001b[38;5;244m│\u001b[0m \u001b[38;5;244m│\u001b[0m ONE APPLE PARK WAY         \u001b[38;5;244m│\u001b[0m      \u001b[38;5;244m│\u001b[0m ONE APPLE PARK WAY         \u001b[38;5;244m│\u001b[0m     \u001b[38;5;244m│\u001b[0m                            \u001b[38;5;244m│\u001b[0m           \u001b[38;5;244m│\u001b[0m\n",
       "\u001b[38;5;244m│\u001b[0m \u001b[38;5;244m│\u001b[0m CUPERTINO, CA 95014        \u001b[38;5;244m│\u001b[0m      \u001b[38;5;244m│\u001b[0m CUPERTINO, CA 95014        \u001b[38;5;244m│\u001b[0m     \u001b[38;5;244m│\u001b[0m  \u001b[1;38;5;249m \u001b[0m\u001b[1;38;5;249mPhone\u001b[0m\u001b[1;38;5;249m \u001b[0m  (408) 996-1010   \u001b[38;5;244m│\u001b[0m           \u001b[38;5;244m│\u001b[0m\n",
       "\u001b[38;5;244m│\u001b[0m \u001b[38;5;244m╰────────────────────────────╯\u001b[0m      \u001b[38;5;244m╰────────────────────────────╯\u001b[0m     \u001b[38;5;244m│\u001b[0m                            \u001b[38;5;244m│\u001b[0m           \u001b[38;5;244m│\u001b[0m\n",
       "\u001b[38;5;244m│\u001b[0m                                                                        \u001b[38;5;244m╰────────────────────────────╯\u001b[0m           \u001b[38;5;244m│\u001b[0m\n",
       "\u001b[38;5;244m│\u001b[0m \u001b[38;5;244m╭─\u001b[0m\u001b[38;5;244m─────────────────────────────────────────────\u001b[0m\u001b[38;5;244m 📜 Former Names \u001b[0m\u001b[38;5;244m─────────────────────────────────────────────\u001b[0m\u001b[38;5;244m─╮\u001b[0m \u001b[38;5;244m│\u001b[0m\n",
       "\u001b[38;5;244m│\u001b[0m \u001b[38;5;244m│\u001b[0m                                                                                                             \u001b[38;5;244m│\u001b[0m \u001b[38;5;244m│\u001b[0m\n",
       "\u001b[38;5;244m│\u001b[0m \u001b[38;5;244m│\u001b[0m   \u001b[3mAPPLE INC             \u001b[0m   January 2007 to August 2019                                                      \u001b[38;5;244m│\u001b[0m \u001b[38;5;244m│\u001b[0m\n",
       "\u001b[38;5;244m│\u001b[0m \u001b[38;5;244m│\u001b[0m   \u001b[3mAPPLE COMPUTER INC    \u001b[0m   January 1994 to January 2007                                                     \u001b[38;5;244m│\u001b[0m \u001b[38;5;244m│\u001b[0m\n",
       "\u001b[38;5;244m│\u001b[0m \u001b[38;5;244m│\u001b[0m   \u001b[3mAPPLE COMPUTER INC/ FA\u001b[0m   July 1997 to July 1997                                                           \u001b[38;5;244m│\u001b[0m \u001b[38;5;244m│\u001b[0m\n",
       "\u001b[38;5;244m│\u001b[0m \u001b[38;5;244m│\u001b[0m                                                                                                             \u001b[38;5;244m│\u001b[0m \u001b[38;5;244m│\u001b[0m\n",
       "\u001b[38;5;244m│\u001b[0m \u001b[38;5;244m╰─────────────────────────────────────────────────────────────────────────────────────────────────────────────╯\u001b[0m \u001b[38;5;244m│\u001b[0m\n",
       "\u001b[38;5;244m╰─\u001b[0m\u001b[38;5;244m───────────────────────────────────────────────\u001b[0m\u001b[38;5;244m SEC Entity Data \u001b[0m\u001b[38;5;244m───────────────────────────────────────────────\u001b[0m\u001b[38;5;244m─╯\u001b[0m"
      ]
     },
     "execution_count": 37,
     "metadata": {},
     "output_type": "execute_result"
    }
   ],
   "source": [
    "c"
   ]
  },
  {
   "cell_type": "code",
   "execution_count": 11,
   "id": "2e72383e",
   "metadata": {},
   "outputs": [
    {
     "data": {
      "text/html": [
       "<div>\n",
       "<style scoped>\n",
       "    .dataframe tbody tr th:only-of-type {\n",
       "        vertical-align: middle;\n",
       "    }\n",
       "\n",
       "    .dataframe tbody tr th {\n",
       "        vertical-align: top;\n",
       "    }\n",
       "\n",
       "    .dataframe thead th {\n",
       "        text-align: right;\n",
       "    }\n",
       "</style>\n",
       "<table border=\"1\" class=\"dataframe\">\n",
       "  <thead>\n",
       "    <tr style=\"text-align: right;\">\n",
       "      <th></th>\n",
       "      <th>name</th>\n",
       "      <th>ytd return</th>\n",
       "      <th>growth estimate</th>\n",
       "    </tr>\n",
       "    <tr>\n",
       "      <th>symbol</th>\n",
       "      <th></th>\n",
       "      <th></th>\n",
       "      <th></th>\n",
       "    </tr>\n",
       "  </thead>\n",
       "  <tbody>\n",
       "    <tr>\n",
       "      <th>CFLT</th>\n",
       "      <td>Confluent, Inc.</td>\n",
       "      <td>-0.0558</td>\n",
       "      <td>5.500000</td>\n",
       "    </tr>\n",
       "    <tr>\n",
       "      <th>AVDX</th>\n",
       "      <td>AvidXchange Holdings, Inc.</td>\n",
       "      <td>-0.0464</td>\n",
       "      <td>3.000000</td>\n",
       "    </tr>\n",
       "    <tr>\n",
       "      <th>OSPN</th>\n",
       "      <td>OneSpan Inc.</td>\n",
       "      <td>-0.1985</td>\n",
       "      <td>2.000000</td>\n",
       "    </tr>\n",
       "    <tr>\n",
       "      <th>GB</th>\n",
       "      <td>Global Blue Group Holding AG</td>\n",
       "      <td>0.0664</td>\n",
       "      <td>1.809818</td>\n",
       "    </tr>\n",
       "    <tr>\n",
       "      <th>IOT</th>\n",
       "      <td>Samsara Inc.</td>\n",
       "      <td>-0.1181</td>\n",
       "      <td>1.428571</td>\n",
       "    </tr>\n",
       "  </tbody>\n",
       "</table>\n",
       "</div>"
      ],
      "text/plain": [
       "                                name  ytd return   growth estimate\n",
       "symbol                                                            \n",
       "CFLT                 Confluent, Inc.     -0.0558          5.500000\n",
       "AVDX      AvidXchange Holdings, Inc.     -0.0464          3.000000\n",
       "OSPN                    OneSpan Inc.     -0.1985          2.000000\n",
       "GB      Global Blue Group Holding AG      0.0664          1.809818\n",
       "IOT                     Samsara Inc.     -0.1181          1.428571"
      ]
     },
     "execution_count": 11,
     "metadata": {},
     "output_type": "execute_result"
    }
   ],
   "source": [
    "tech = yf.Sector('technology')\n",
    "software = yf.Industry('software-infrastructure')\n",
    "\n",
    "# Common information\n",
    "tech.key\n",
    "tech.name\n",
    "tech.symbol\n",
    "tech.ticker\n",
    "tech.overview\n",
    "tech.top_companies\n",
    "tech.research_reports\n",
    "\n",
    "# Sector information\n",
    "tech.top_etfs\n",
    "tech.top_mutual_funds\n",
    "tech.industries\n",
    "\n",
    "# Industry information\n",
    "software.sector_key\n",
    "software.sector_name\n",
    "software.top_performing_companies\n",
    "software.top_growth_companies\n"
   ]
  },
  {
   "cell_type": "code",
   "execution_count": 15,
   "id": "e532f53f",
   "metadata": {},
   "outputs": [
    {
     "data": {
      "text/plain": [
       "{'companies_count': 817,\n",
       " 'market_cap': 21823404113920,\n",
       " 'message_board_id': 'INDEXYH311',\n",
       " 'description': 'Companies engaged in the design, development, and support of computer operating systems and applications. This sector also includes companies that make computer equipment, data storage products, networking products, semiconductors, and components. Companies in this sector include Apple, Microsoft, and IBM.',\n",
       " 'industries_count': 12,\n",
       " 'market_weight': 0.30499735,\n",
       " 'employee_count': 7177770}"
      ]
     },
     "execution_count": 15,
     "metadata": {},
     "output_type": "execute_result"
    }
   ],
   "source": [
    "tech.overview"
   ]
  }
 ],
 "metadata": {
  "kernelspec": {
   "display_name": ".venv",
   "language": "python",
   "name": "python3"
  },
  "language_info": {
   "codemirror_mode": {
    "name": "ipython",
    "version": 3
   },
   "file_extension": ".py",
   "mimetype": "text/x-python",
   "name": "python",
   "nbconvert_exporter": "python",
   "pygments_lexer": "ipython3",
   "version": "3.13.5"
  }
 },
 "nbformat": 4,
 "nbformat_minor": 5
}
