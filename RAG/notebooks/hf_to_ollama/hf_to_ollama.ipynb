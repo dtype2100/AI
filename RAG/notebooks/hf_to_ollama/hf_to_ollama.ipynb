{
 "cells": [
  {
   "cell_type": "code",
   "execution_count": null,
   "id": "d0bf08e9",
   "metadata": {},
   "outputs": [],
   "source": [
    "# import sys\n",
    "# import os\n",
    "\n",
    "# # Docker 컨테이너 내부의 올바른 경로\n",
    "# sys.path.append('/home/jovyan/work/hf_to_ollama')\n",
    "# from hf_to_ollama_docker import register_hf_model_to_ollama"
   ]
  },
  {
   "cell_type": "code",
   "execution_count": null,
   "id": "14ce2e43",
   "metadata": {},
   "outputs": [],
   "source": [
    "from hf_to_ollama_docker import register_hf_model_to_ollama"
   ]
  },
  {
   "cell_type": "code",
   "execution_count": 23,
   "id": "7e73c0cd",
   "metadata": {},
   "outputs": [
    {
     "name": "stdout",
     "output_type": "stream",
     "text": [
      "Ollama가 설치되지 않았거나 PATH에 없습니다.\n",
      "Docker 컨테이너 내부에서 실행 중인지 확인하세요.\n"
     ]
    }
   ],
   "source": [
    "register_hf_model_to_ollama(model_path=\"./models/llama-3.2-Korean-Bllossom-3B-gguf-Q4_K_M.gguf\", \n",
    "                            model_name=\"llama-3.2-Korean-Bllossom-3B-gguf-Q4_K_M.gguf\")"
   ]
  },
  {
   "cell_type": "code",
   "execution_count": null,
   "id": "a0dea787",
   "metadata": {},
   "outputs": [],
   "source": []
  }
 ],
 "metadata": {
  "kernelspec": {
   "display_name": "Python (venv)",
   "language": "python",
   "name": "venv"
  }
 },
 "nbformat": 4,
 "nbformat_minor": 5
}
