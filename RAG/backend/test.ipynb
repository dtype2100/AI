{
 "cells": [
  {
   "cell_type": "code",
   "execution_count": 1,
   "id": "ab28fb89",
   "metadata": {},
   "outputs": [
    {
     "name": "stderr",
     "output_type": "stream",
     "text": [
      "USER_AGENT environment variable not set, consider setting it to identify your requests.\n"
     ]
    }
   ],
   "source": [
    "# 1. 기본 사용\n",
    "from src.services.rag_test import RAGAgent\n",
    "\n",
    "agent = RAGAgent(document_paths=[\"test_document.txt\"])"
   ]
  },
  {
   "cell_type": "code",
   "execution_count": 2,
   "id": "6b3994c9",
   "metadata": {},
   "outputs": [
    {
     "name": "stderr",
     "output_type": "stream",
     "text": [
      "c:\\Users\\jw160\\project\\chat_project\\RAG\\backend\\src\\services\\rag_test.py:244: LangChainDeprecationWarning: The method `BaseRetriever.get_relevant_documents` was deprecated in langchain-core 0.1.46 and will be removed in 1.0. Use :meth:`~invoke` instead.\n",
      "  relevant_docs = self.retriever.get_relevant_documents(question)\n"
     ]
    },
    {
     "name": "stdout",
     "output_type": "stream",
     "text": [
      ".\n",
      "\n",
      "인공지능(AI)은 인간의 학습능력과 추론능력, 지각능력, 자연언어의 이해능력 등을 컴퓨터 프로그램으로 실현한 기술입니다. \n",
      "\n",
      "머신러닝은 AI의 한 분야로, 데이터로부터 패턴을 학습하여 예측이나 분류를 수행하는 기술입니다. 지도학습, 비지도학습, 강화학습 등의 방법이 있습니다.\n",
      "\n",
      "딥러닝은 머신러닝의 하위 분야로, 인공신경망을 기반으로 한 학습 방법입니다. 여러 층의 뉴런으로 구성된 신경망을 통해 복잡한 패턴을 학습할 수 있습니다.\n",
      "\n",
      "자연어처리(NLP)는 인간의 언어를 컴퓨터가 이해하고 처리할 수 있도록 하는 기술입니다. 텍스트 분류, 감정 분석, 기계번역, 질의응답 등의 작업에 활용됩니다.\n",
      "\n",
      "RAG(Retrieval-Augmented Generation)는 정보 검색과 생성형 AI를 결합한 기술로, 외부 지식베이스에서 관련 정보를 검색하여 더 정확하고 신뢰할 수 있는 답변을 생성합니다."
     ]
    }
   ],
   "source": [
    "answer = agent.query(\"인공지능이란 무엇인가요?\")"
   ]
  },
  {
   "cell_type": "code",
   "execution_count": null,
   "id": "f2ba44e1",
   "metadata": {},
   "outputs": [],
   "source": [
    "# 2. 헬퍼 함수 사용\n",
    "from src.services.rag_test import create_rag_agent_from_documents\n",
    "\n",
    "agent = create_rag_agent_from_documents(\n",
    "    document_paths=[\"test_document.txt\"],\n",
    "    vector_store_path=\"./my_vector_store\"\n",
    ")\n"
   ]
  },
  {
   "cell_type": "code",
   "execution_count": null,
   "id": "d5f07c25",
   "metadata": {},
   "outputs": [],
   "source": []
  },
  {
   "cell_type": "code",
   "execution_count": null,
   "id": "96a65ee2",
   "metadata": {},
   "outputs": [],
   "source": []
  },
  {
   "cell_type": "code",
   "execution_count": null,
   "id": "be4b1ce5",
   "metadata": {},
   "outputs": [],
   "source": [
    "# 3. 설정 변경\n",
    "from src.services.config import Config\n",
    "Config.set_ollama_settings(\"http://localhost:11434\", \"llama2\")\n",
    "Config.set_chunk_settings(1000, 100)"
   ]
  }
 ],
 "metadata": {
  "kernelspec": {
   "display_name": ".venv",
   "language": "python",
   "name": "python3"
  },
  "language_info": {
   "codemirror_mode": {
    "name": "ipython",
    "version": 3
   },
   "file_extension": ".py",
   "mimetype": "text/x-python",
   "name": "python",
   "nbconvert_exporter": "python",
   "pygments_lexer": "ipython3",
   "version": "3.13.5"
  }
 },
 "nbformat": 4,
 "nbformat_minor": 5
}
